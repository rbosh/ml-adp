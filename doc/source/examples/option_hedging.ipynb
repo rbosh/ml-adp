{
 "cells": [
  {
   "cell_type": "markdown",
   "metadata": {},
   "source": [
    "# European Derivatives Hedging in Multinomial Market Models"
   ]
  },
  {
   "cell_type": "markdown",
   "metadata": {},
   "source": [
    "Following [Bachouch et. al](https://arxiv.org/abs/1812.05916v3), consider the example of an investor hedging a European contingent claim $H$ in an arbitrage-free financial market of $d$ risky securities (and a risk-free bank account) and $T$ trading periods until the maturity of $H$.\n",
    "We identify the securities with their price processes $P^{1},\\dots, P^{d}$ which we assume to be non-negative stochastic processes on a probability space $(\\Omega, \\mathcal{F}, \\mathbb{P})$, adapted to a filtration $(\\mathcal{G}_t)_{t=0}^T$. \n",
    "Write $P_t = (P^{1}_t, \\dots, P^{d}_t)$ for all times $t$.\n",
    "Additionally, $P^{(0)}$ refers to the bank account which at time $t$ shall accrue at the deterministic rate $r_t^{(0)} = \\Delta P^{(0)}_t / P^{(0)}_{t-1} \\in\\mathbb{R}$.\n",
    "\n",
    "We assume the price processes to have independent increments, meaning that for every risky security $P^i$ the process of its excess returns $(R^i_t)_{t=0}^T$, $$R^{i}_t = \\Delta P^{i}_t / P^{i}_{t-1},\\quad t=0,\\dots, T,$$ as a family of random variables, is independent.\n",
    "Write $R_t = (R^{1}_t, \\dots, R^{d}_t)$ for all times $t$. \n",
    "\n",
    "The investor's self-financing hedging strategy reduces to an adapted process $A=(A_0,\\dots, A_T)$ with positions $A_t = (A^{1}_t,\\dots, A^{d}_t)$ in $\\mathbb{R}^d$ indicating the net amounts invested into the market's risky securities at time $t$ together with an *initial wealth* $W_0$:\n",
    "For the strategy to indeed be self-financing the associated *wealth process* $(W_t)$ given by $W_t=A^{(0)}_t + \\sum_{i=1}^d A^{i}_t$, where $A^{(0)}_t$ is the investor's time-$t$ position in the money market account, must satisfy the condition $\\Delta W_{t+1} = \\langle (A^{(0)}_t,A_t), (r^{(0)}_{t+1}, R_{t+1})\\rangle$ at all times $t$ which allows to recurse $$W_{t+1} = W_t + \\langle A_t, R_{t+1}\\rangle + \\bigr(W_t - \\sum_{i=1}^d A_t^{i}\\bigr)r^{(0)}_{t+1},\\quad t=0,\\dots, T$$ in terms of the initial wealth $W_0$ and the process $A$.\n",
    "\n",
    "Let the hedging investor's objective be to expect to incur a minimal *square replication error* $|W_T - H|^2$.\n",
    "If the claim $H$ is attainable, then the unique initial endowment $W_0^*$ for which the replication error is expected to vanish constitutes the fair price of the claim $H$ at time $0$. \n",
    "If the claim is not attainable, then the minimum expected replication error $\\varepsilon^*$ is not zero and the unique initial endowment $W_0^*$ producing $\\varepsilon^*$ cannot be interpreted as a price.\n",
    "Rather, $W_0^∗$ may be viewed as the \"minimum production cost of replicating the payoff\" $H$ to within $\\varepsilon^*$ which, depending on their risk preferences, the investor may or may not be willing to pay (not to mention the implications of the a priori use of the square loss function to quantify the replication error) (cf. [Bertsemas et al.](https://doi.org/10.1287/opre.49.3.372.11218) which also includes a discussion of the (un)suitability of the square loss function).\n",
    "\n",
    "Provided that $H$ is a *simple derivative* such that it factorizes with respect to the terminal market state, i.e., $H=h(P_T)$ for some *payoff function* $h$, we recognize this problem to be a Markovian stochastic optimal control problem as in the scope of ml-adp (compare the [guide](https://ml-adp.readthedocs.io/en/latest/guide.html)).\n",
    "Because of the independent excess returns, the state relevant to the investor at each time $t$ is limited to the current wealth $w_t$ of their portfolio together with the current market prices $p_t$, that is, $s_t = (w_t, p_t)$. \n",
    "The investor controls the next state $s_{t+1}$ through his investments $a_t$ into the risky assets: $S_{T+1}  = F_t(S_t, A_t, R_{t+1})$ with $$F_t(s_t, a_t, r_{t+1}) = \\left(w_t + \\langle a_t, r_{t+1}\\rangle + (w_t - \\textstyle\\sum_{i=1}^d a_t^i) r^{(0)}_{t+1},\\; (1 + r_{t+1}) p_t\\right)$$ for $s_t=(w_t,p_t)\\in\\mathbb{R}^{1+d}$ and $a_t, r_{t+1}\\in\\mathbb{R}^d$.\n",
    "\n",
    "Setting $K_0,\\dots, K_{T-1}$ to zero and $$K_T(s_T, a_T) = |h(p_T) - w_T|^2$$ we find that an optimal control for a such defined problem evaluates, in the investor's context, to a cost-optimal replication strategy. \n",
    "See [Schweizer](https://doi.org/10.1287/moor.20.1.1) for sufficient conditions for an optimal control to exist.\n",
    "\n"
   ]
  },
  {
   "cell_type": "markdown",
   "metadata": {},
   "source": [
    "## Imports"
   ]
  },
  {
   "cell_type": "code",
   "execution_count": 1,
   "metadata": {},
   "outputs": [],
   "source": [
    "from ml_adp import CostToGo"
   ]
  },
  {
   "cell_type": "markdown",
   "metadata": {},
   "source": [
    "Additional imports:"
   ]
  },
  {
   "cell_type": "code",
   "execution_count": 2,
   "metadata": {},
   "outputs": [],
   "source": [
    "import torch\n",
    "from torch import Tensor\n",
    "import torch.nn.functional as F\n",
    "from einops import einsum, rearrange\n",
    "import matplotlib.pyplot as plt\n",
    "import copy\n",
    "from tqdm import tqdm"
   ]
  },
  {
   "cell_type": "markdown",
   "metadata": {},
   "source": [
    "## Device Settings"
   ]
  },
  {
   "cell_type": "code",
   "execution_count": 3,
   "metadata": {},
   "outputs": [
    {
     "name": "stdout",
     "output_type": "stream",
     "text": [
      "cuda:0\n"
     ]
    }
   ],
   "source": [
    "device = torch.device(\"cuda:0\" if torch.cuda.is_available() else \"cpu\")\n",
    "print(device)"
   ]
  },
  {
   "cell_type": "markdown",
   "metadata": {},
   "source": [
    "## Model Implementation"
   ]
  },
  {
   "cell_type": "markdown",
   "metadata": {},
   "source": [
    "Concretely, take\n",
    "\n",
    "* the financial market to have five trading periods and consist of a single risky asset trading at an initial level of $100$: $T=5$, $d=1$ and $P_0 = 100$ (setting $P=P^{1}$ and $R=R^{1}$)\n",
    "* A multinomial model for the securities returns: $R_0,\\dots, R_T$ i.i.d. with law $$\\mathbb{P}_{R_t} = 3/10*\\delta_{\\{-0.05\\}} + 1/10*\\delta_{\\{0\\}} + 6/10 * \\delta_{\\{0.05\\}}$$\n",
    "* The locally risk-free asset yielding nothing: $R_t^{(0)} = 0$ for all times $t$\n",
    "* $H$ a European call option on $S$ with maturity $T=5$ and strike equal to the initial price of $S$: $$H = (P_5 - 100)^+$$ such that $H=h(P_T)$ with $h(p_T) = (p_T - 100)$.\n",
    "\n",
    "Fix the basic parameters:"
   ]
  },
  {
   "cell_type": "code",
   "execution_count": 4,
   "metadata": {},
   "outputs": [],
   "source": [
    "periods = 5\n",
    "number_risky_assets = 1\n",
    "\n",
    "initial_value = torch.tensor(100., device=device)\n",
    "risk_free_rate = torch.tensor(0., device=device)\n",
    "\n",
    "rets = torch.tensor([0.05, -0.05, 0.0], device=device)\n",
    "probs = torch.tensor([0.6, 0.3, 0.1], device=device)"
   ]
  },
  {
   "cell_type": "markdown",
   "metadata": {},
   "source": [
    "We begin by creating an empty `CostToGo` of appropriate length:"
   ]
  },
  {
   "cell_type": "code",
   "execution_count": 5,
   "metadata": {},
   "outputs": [],
   "source": [
    "square_replication_error = CostToGo.from_steps(periods)"
   ]
  },
  {
   "cell_type": "markdown",
   "metadata": {},
   "source": [
    "Inspect it:"
   ]
  },
  {
   "cell_type": "code",
   "execution_count": 6,
   "metadata": {},
   "outputs": [
    {
     "data": {
      "text/plain": [
       "CostToGo(\n",
       " time |      state_func       |     control_func      |       cost_func      \n",
       "=============================================================================\n",
       "   0  |                       |         None          |         None         \n",
       "   1  |         None          |         None          |         None         \n",
       "   2  |         None          |         None          |         None         \n",
       "   3  |         None          |         None          |         None         \n",
       "   4  |         None          |         None          |         None         \n",
       "   5  |         None          |         None          |         None         \n",
       "  (6) |         None          |                       |                      \n",
       ")"
      ]
     },
     "execution_count": 6,
     "metadata": {},
     "output_type": "execute_result"
    }
   ],
   "source": [
    "square_replication_error"
   ]
  },
  {
   "cell_type": "markdown",
   "metadata": {},
   "source": [
    "We will first provide `square_replication_error` with the correct state functions and cost functions (before thinking about a control function architecture).\n",
    "We begin by implementing the state transition function $F(s_t, a_t, \\xi_{t+1})$ (and will need to be mindful of the batch axis while doing so).\n",
    "We base the implementation on a callable class and have it save the risk-free rate $r^{(0)}$ as an instance attribute."
   ]
  },
  {
   "cell_type": "code",
   "execution_count": 7,
   "metadata": {},
   "outputs": [],
   "source": [
    "class MarketStep:\n",
    "    def __init__(self, risk_free_rate: float = 0.0) -> None:\n",
    "        self.risk_free_rate = float(risk_free_rate)\n",
    "    \n",
    "    def __call__(self, wealth: Tensor, prices: Tensor, positions: Tensor, returns: Tensor) -> Tensor:\n",
    "        net_amount = positions.sum(dim=-1, keepdim=True)\n",
    "        bank_account = wealth - net_amount\n",
    "\n",
    "        change_w = bank_account * self.risk_free_rate + einsum(positions, returns, '... j, ... j-> ...').unsqueeze(-1)\n",
    "        change_p = prices * returns\n",
    "\n",
    "        return {'wealth': wealth + change_w, 'prices': prices + change_p}"
   ]
  },
  {
   "cell_type": "markdown",
   "metadata": {},
   "source": [
    "Provide `square_replication_error` with `MarketStep`'s:"
   ]
  },
  {
   "cell_type": "code",
   "execution_count": 8,
   "metadata": {},
   "outputs": [],
   "source": [
    "square_replication_error.state_functions[:-1] = MarketStep(risk_free_rate)"
   ]
  },
  {
   "cell_type": "markdown",
   "metadata": {},
   "source": [
    "Inspect it:"
   ]
  },
  {
   "cell_type": "code",
   "execution_count": 9,
   "metadata": {},
   "outputs": [
    {
     "data": {
      "text/plain": [
       "CostToGo(\n",
       " time |      state_func       |     control_func      |       cost_func      \n",
       "=============================================================================\n",
       "   0  |                       |         None          |         None         \n",
       "   1  | <__main__.MarketS...> |         None          |         None         \n",
       "   2  | <__main__.MarketS...> |         None          |         None         \n",
       "   3  | <__main__.MarketS...> |         None          |         None         \n",
       "   4  | <__main__.MarketS...> |         None          |         None         \n",
       "   5  | <__main__.MarketS...> |         None          |         None         \n",
       "  (6) |         None          |                       |                      \n",
       ")"
      ]
     },
     "execution_count": 9,
     "metadata": {},
     "output_type": "execute_result"
    }
   ],
   "source": [
    "square_replication_error"
   ]
  },
  {
   "cell_type": "markdown",
   "metadata": {},
   "source": [
    "Next, implement the cost function $K_T(s_T, a_T) = \\vert h(p_T) - w_T\\vert^2$.\n",
    "We modularize the design and consider the payoff function $h$ as a separate component, turning first to the actual square error cost function implementation that will wrap the payoff function, provide it with the market prices when given the state and position argument, and square the its output before finally returning it:"
   ]
  },
  {
   "cell_type": "code",
   "execution_count": 10,
   "metadata": {},
   "outputs": [],
   "source": [
    "from abc import abstractmethod\n",
    "from collections.abc import Callable\n",
    "\n",
    "\n",
    "class Derivative(Callable):\n",
    "    r\"\"\"Implements Payoff Functions $h(p_T)$\"\"\"\n",
    "    @abstractmethod\n",
    "    def __call__(self, prices: Tensor) -> Tensor:\n",
    "        pass\n",
    "\n",
    "\n",
    "class SquareReplicationError:\n",
    "    r\"\"\"Given Payoff Function $h(p_T)$, Implements Square Replication Error $|w_T - h(p_T)|^2\"\"\"\n",
    "    def __init__(self, derivative: Derivative) -> None:\n",
    "        self.derivative = derivative\n",
    "    \n",
    "    def __call__(self, wealth: Tensor, prices: Tensor, **dump) -> Tensor:\n",
    "        payoff = self.derivative(prices)\n",
    "        return (payoff - wealth).square()"
   ]
  },
  {
   "cell_type": "markdown",
   "metadata": {},
   "source": [
    "Next, we implement a generic European call option payoff function $h(p_T) = (p_T - K)^+$:"
   ]
  },
  {
   "cell_type": "code",
   "execution_count": 11,
   "metadata": {},
   "outputs": [],
   "source": [
    "class EuropeanCallOption(Derivative):\n",
    "    def __init__(self, strike: float, underlying_index: int) -> None:\n",
    "        self.strike = float(strike)\n",
    "        self.underlying_index = underlying_index\n",
    "    \n",
    "    def __call__(self, prices: Tensor) -> Tensor:\n",
    "        underlying_price = prices[..., [self.underlying_index]]\n",
    "        option_payoff = F.relu(underlying_price - self.strike)\n",
    "        \n",
    "        return option_payoff"
   ]
  },
  {
   "cell_type": "markdown",
   "metadata": {},
   "source": [
    "Finally, set the cost function:"
   ]
  },
  {
   "cell_type": "code",
   "execution_count": 12,
   "metadata": {},
   "outputs": [],
   "source": [
    "option = EuropeanCallOption(strike=100., underlying_index=0)\n",
    "square_replication_error.cost_functions[-1] = SquareReplicationError(option)"
   ]
  },
  {
   "cell_type": "markdown",
   "metadata": {},
   "source": [
    "Inspect the `square_replication_error`. \n",
    "At this point, it is only missing some neural network based control functions."
   ]
  },
  {
   "cell_type": "code",
   "execution_count": 13,
   "metadata": {},
   "outputs": [
    {
     "data": {
      "text/plain": [
       "CostToGo(\n",
       " time |      state_func       |     control_func      |       cost_func      \n",
       "=============================================================================\n",
       "   0  |                       |         None          |         None         \n",
       "   1  | <__main__.MarketS...> |         None          |         None         \n",
       "   2  | <__main__.MarketS...> |         None          |         None         \n",
       "   3  | <__main__.MarketS...> |         None          |         None         \n",
       "   4  | <__main__.MarketS...> |         None          |         None         \n",
       "   5  | <__main__.MarketS...> |         None          | <__main__.SquareR...>\n",
       "  (6) |         None          |                       |                      \n",
       ")"
      ]
     },
     "execution_count": 13,
     "metadata": {},
     "output_type": "execute_result"
    }
   ],
   "source": [
    "square_replication_error"
   ]
  },
  {
   "cell_type": "markdown",
   "metadata": {},
   "source": [
    "Last, but not least, we need to implement a sampler for the random effects which, in this example, are the excess returns which are i.i.d. with multinomial law given by `rets` and `probs`.\n",
    "We create an apposite class and additionally include some integration methods we will need later on when implementing the analytic solution of the problem."
   ]
  },
  {
   "cell_type": "code",
   "execution_count": 14,
   "metadata": {},
   "outputs": [],
   "source": [
    "from torch.distributions.categorical import Categorical\n",
    "import functools\n",
    "\n",
    "\n",
    "class MultinomialDistribution:\n",
    "    def __init__(self, rets: Tensor, probs: Tensor) -> None:\n",
    "        self.rets = rets\n",
    "        self.probs = probs\n",
    "        self.categorical = Categorical(probs)\n",
    "    \n",
    "    def __repr__(self) -> str:\n",
    "        return \"MultinomialDistribution(\" + \"+ \".join([f\"{prob: .2f}×δ{{{ret : 1.2g}}} \" for ret, prob in zip(self.rets, self.probs)]) + \")\"\n",
    "    \n",
    "    def sample(self, size: torch.Size) -> Tensor:\n",
    "        return self.rets[self.categorical.sample(size)]\n",
    "        \n",
    "    def integrate(self, integrand: Tensor, moment: int = 0) -> Tensor:\n",
    "        return torch.sum(integrand.squeeze(-1) * (self.rets ** moment) * self.probs, dim=-1, keepdim=True)\n",
    "   \n",
    "    @functools.cached_property\n",
    "    def mean(self) -> Tensor:\n",
    "        return self.integrate(torch.tensor(1., device=device), moment=1)\n",
    "    \n",
    "    @functools.cached_property\n",
    "    def second(self) -> Tensor:\n",
    "        return self.integrate(torch.tensor(1., device=device), moment=2)"
   ]
  },
  {
   "cell_type": "markdown",
   "metadata": {},
   "source": [
    "Instantiate the sampler:"
   ]
  },
  {
   "cell_type": "code",
   "execution_count": 15,
   "metadata": {},
   "outputs": [
    {
     "data": {
      "text/plain": [
       "MultinomialDistribution( 0.60×δ{ 0.05} +  0.30×δ{-0.05} +  0.10×δ{ 0} )"
      ]
     },
     "execution_count": 15,
     "metadata": {},
     "output_type": "execute_result"
    }
   ],
   "source": [
    "md = MultinomialDistribution(rets, probs)\n",
    "md"
   ]
  },
  {
   "cell_type": "markdown",
   "metadata": {},
   "source": [
    "## Implementation of the Analytic Solution"
   ]
  },
  {
   "cell_type": "markdown",
   "metadata": {},
   "source": [
    "For benchmarking purposes, we create another `CostToGo` based on the analytical solution of the problem.\n",
    "The time-$t$ cost-to-go, as per the analytical solution given in [arXiv:1812.05916v3](https://arxiv.org/abs/1812.05916v3) and derived in [Bertsemas et al.](https://doi.org/10.1287/opre.49.3.372.11218), is $$V_t(s) = K_t w^2 + 2B_t(p)w + C_t(p), \\quad s=(w, p)\\in\\mathbb{R}\\times\\mathbb{R}$$ where, backward-recursively, with $m_{1, t} = ER_t$ and $m_{2, t} = E(R_t^2)$, $$K_t = K_{t+1}(1 - ER_{t+1}E(R^2_{t+1})),\\quad t=T-1,\\dots, 0$$ and $$B_t(p) = EB_{t+1}(p(1 + R_{t+1})) - \\frac{m_{1,t+1}}{m_{2, t+1}} E(B_{t+1}(p(1+R_{t+1}))R_{t+1}), \\quad p\\in\\mathbb{R},\\quad t=T-1,\\dots, 0$$ and $$C_t(p) = EC_{t+1}(p(1 + R_{t+1})) - \\frac{\\bigr(E\\big(B_{t+1}(p(1+R_{t+1}))R_{t+1}\\big)\\bigr)^2}{K_{t+1}\\, m_{2,t+1}} ,\\quad p\\in\\mathbb{R}, \\quad t=T-1,\\dots, 0,$$ based on $$K_T = 1, \\quad B_T = h,\\quad C_T = h^2.$$"
   ]
  },
  {
   "cell_type": "markdown",
   "metadata": {},
   "source": [
    "Accordingly:"
   ]
  },
  {
   "cell_type": "code",
   "execution_count": 16,
   "metadata": {},
   "outputs": [],
   "source": [
    "@functools.cache\n",
    "def K(time: int, time_horizon: int, md: MultinomialDistribution) -> Tensor:\n",
    "    return (1. - (md.mean / md.second) * md.mean) ** (time_horizon - time)\n",
    "\n",
    "@functools.cache\n",
    "def B(prices: Tensor, time: int, time_horizon: int, option: Derivative, md: MultinomialDistribution) -> Tensor:\n",
    "    if time == time_horizon:\n",
    "        return option(prices)\n",
    "    else:\n",
    "        next_prices = (prices * (1. + md.rets.unsqueeze(0))).unsqueeze(-1)\n",
    "        b0 = md.integrate(B(next_prices, time + 1, time_horizon, option, md), moment=0)\n",
    "        b1 = md.integrate(B(next_prices, time + 1, time_horizon, option, md), moment=1)\n",
    "        return b0 - (md.mean * b1) / md.second\n",
    "\n",
    "@functools.cache\n",
    "def C(prices: Tensor, time: int, time_horizon: int, option: Derivative, md: MultinomialDistribution) -> Tensor:\n",
    "    if time == time_horizon:\n",
    "        return option(prices) ** 2\n",
    "    else:\n",
    "        next_prices = (prices * (1. + md.rets.unsqueeze(0))).unsqueeze(-1)\n",
    "        c0 = md.integrate(C(next_prices, time + 1, time_horizon, option, md), moment=0)\n",
    "        b1 = md.integrate(B(next_prices, time + 1, time_horizon, option, md), moment=1)\n",
    "        return c0 - (b1 / K(time + 1, time_horizon, md)) * (b1 / md.second)"
   ]
  },
  {
   "cell_type": "code",
   "execution_count": 17,
   "metadata": {},
   "outputs": [],
   "source": [
    "k = functools.partial(K, time=0, time_horizon=periods, md=md)\n",
    "b = functools.partial(B, time=0, time_horizon=periods, option=option, md=md)\n",
    "c = functools.partial(C, time=0, time_horizon=periods, option=option, md=md)\n",
    "\n",
    "def v0(wealth: Tensor, prices: Tensor):\n",
    "    return k() * (wealth ** 2) - 2 * b(prices) * wealth + c(prices)\n",
    "\n",
    "analytic_error = CostToGo.from_steps(0)\n",
    "analytic_error.cost_functions[0] = v0"
   ]
  },
  {
   "cell_type": "markdown",
   "metadata": {},
   "source": [
    "Inspect the analytic solution for different initial price values; the location $W_0^* = B_0(p_0)/K_0$ of the global minimum $\\varepsilon^* = 0$ of the cost-to-go graphs represents the fair price of the attainable derivative at time $0$.\n",
    "In our example, at the given initial price value of $100$, the price of the given European call option evaluates to:"
   ]
  },
  {
   "cell_type": "code",
   "execution_count": 18,
   "metadata": {},
   "outputs": [
    {
     "data": {
      "text/plain": [
       "tensor([[4.2832]], device='cuda:0')"
      ]
     },
     "execution_count": 18,
     "metadata": {},
     "output_type": "execute_result"
    }
   ],
   "source": [
    "b(initial_value) / k()"
   ]
  },
  {
   "cell_type": "markdown",
   "metadata": {},
   "source": [
    "The following plots show how the initial price level affects the replication costs:"
   ]
  },
  {
   "cell_type": "code",
   "execution_count": 19,
   "metadata": {},
   "outputs": [
    {
     "data": {
      "image/png": "[encoded data removed]",
      "text/plain": [
       "<Figure size 640x480 with 1 Axes>"
      ]
     },
     "metadata": {},
     "output_type": "display_data"
    }
   ],
   "source": [
    "initial_wealths = torch.arange(0, 10.125, 0.125, device=device)\n",
    "analytic_replication_costs = [float(v0(initial_wealth, initial_value)) for initial_wealth in initial_wealths]\n",
    "\n",
    "plt.title(\"Analytic square replication error\")\n",
    "plt.xlabel(\"Initial wealth $W_0$\")\n",
    "plt.plot(initial_wealths.cpu(), analytic_replication_costs)\n",
    "plt.grid()\n",
    "plt.show()"
   ]
  },
  {
   "cell_type": "markdown",
   "metadata": {},
   "source": [
    "## Control Function Specification"
   ]
  },
  {
   "cell_type": "markdown",
   "metadata": {},
   "source": [
    "We are finally reached the point where the neural networks to be used for the control functions must be specified.\n",
    "This, generally, is an exercise of the domain expert.\n",
    "A such will be informed (by e.g. [arXiv:1812.05916v3](https://arxiv.org/abs/1812.05916v3)) that, in the given situation, the optimal control at each step will depend linearly on the current wealth level and that the current market price levels parametrize these linear dependencies.\n",
    "`ml_adp.mapping.linear.LinearMap` implements learnable such parametrized linear maps by relying on an FFN to parametrize a linear transformation representation matrix.\n"
   ]
  },
  {
   "cell_type": "code",
   "execution_count": 20,
   "metadata": {},
   "outputs": [],
   "source": [
    "from ml_adp.utils.fnn import FNN, BatchNorm\n",
    "from typing import Sequence\n",
    "\n",
    "\n",
    "class LinearStrategy(torch.nn.Module):\n",
    "    \"\"\"\n",
    "    Have an FFN parametrize a linear insertion (of the wealth \n",
    "    into the control space) with (d x 1)-representation matrix \n",
    "    \"\"\"\n",
    "    def __init__(self, hidden_layer_sizes: Sequence[int], **ffn_config):\n",
    "        super().__init__()\n",
    "        \n",
    "        ffn_config.update({\n",
    "            'size': (number_risky_assets, *hidden_layer_sizes, (number_risky_assets, 2)),\n",
    "            'hidden_activation': 'LeakyReLU',\n",
    "        })\n",
    "        self.fnn = FNN.from_config(**ffn_config)\n",
    "        \n",
    "        self.wealth_norm = BatchNorm(num_features=1)\n",
    "        \n",
    "    def forward(self, wealth: Tensor, prices: Tensor) -> Tensor:\n",
    "        weight, bias = self.fnn(prices).split([1, 1], dim=-1)\n",
    "        wealth_normalized = self.wealth_norm(wealth)\n",
    "        positions = einsum(weight, wealth_normalized, '... i j, ... j -> ... i') + bias.squeeze(-1)\n",
    "\n",
    "        return {'positions': positions}"
   ]
  },
  {
   "cell_type": "markdown",
   "metadata": {},
   "source": [
    "Set the control functions; the following configuration has been identified to work well for the controls of this particular instance of the option hedging problem:"
   ]
  },
  {
   "cell_type": "code",
   "execution_count": 21,
   "metadata": {},
   "outputs": [],
   "source": [
    "hidden_layer_sizes = (32, 32)\n",
    "\n",
    "for time in range(len(square_replication_error) - 1):  # Do not need a control at maturity\n",
    "    square_replication_error.control_functions[time] = LinearStrategy(hidden_layer_sizes)"
   ]
  },
  {
   "cell_type": "markdown",
   "metadata": {},
   "source": [
    "Inspect ``square_replication_error`` and sanity-check its representation:"
   ]
  },
  {
   "cell_type": "code",
   "execution_count": 22,
   "metadata": {},
   "outputs": [
    {
     "data": {
      "text/plain": [
       "CostToGo(\n",
       " time |      state_func       |     control_func      |       cost_func      \n",
       "=============================================================================\n",
       "   0  |                       | LinearStrategy(   ... |         None         \n",
       "   1  | <__main__.MarketS...> | LinearStrategy(   ... |         None         \n",
       "   2  | <__main__.MarketS...> | LinearStrategy(   ... |         None         \n",
       "   3  | <__main__.MarketS...> | LinearStrategy(   ... |         None         \n",
       "   4  | <__main__.MarketS...> | LinearStrategy(   ... |         None         \n",
       "   5  | <__main__.MarketS...> |         None          | <__main__.SquareR...>\n",
       "  (6) |         None          |                       |                      \n",
       ")"
      ]
     },
     "execution_count": 22,
     "metadata": {},
     "output_type": "execute_result"
    }
   ],
   "source": [
    "square_replication_error"
   ]
  },
  {
   "cell_type": "markdown",
   "metadata": {},
   "source": [
    "## Choosing the Training Distributions"
   ]
  },
  {
   "cell_type": "markdown",
   "metadata": {},
   "source": [
    "For the training distributions, the domain expert defaults to a normal distribution that for the wealths has ~ 68% of its mass contained in the interval $[0, 10]$ and is centered at $5$ (which is a reasonable estimate for the price of the option) and chooses, for the prices, again a normal distribution centered at the initial price $100$ and with the standard deviation increasing based on the number of trading periods into the market (reflecting his expectation of the distribution of the prices to get flatter with time)."
   ]
  },
  {
   "cell_type": "code",
   "execution_count": 23,
   "metadata": {},
   "outputs": [],
   "source": [
    "from torch.distributions.normal import Normal\n",
    "from torch.distributions.log_normal import LogNormal\n",
    "from torch.distributions.uniform import Uniform\n",
    "\n",
    "\n",
    "class TrainingStateSampler:\n",
    "    def __init__(self, time: int, sim_size: int):\n",
    "        \n",
    "        self.sim_size = sim_size\n",
    "        eps = 5\n",
    "        \n",
    "        if time == 0:\n",
    "            self.wealth_sampler = Uniform(initial_wealths[0] - eps, initial_wealths[-1] + eps)\n",
    "        else:\n",
    "            wealth_loc = torch.tensor(5., device=device)\n",
    "            wealth_scale = torch.tensor(time * 10, device=device)\n",
    "            self.wealth_sampler = Normal(wealth_loc, wealth_scale)\n",
    "\n",
    "        price_lower = initial_value * (1 + rets.min()) ** time\n",
    "        price_upper = initial_value * (1 + rets.max()) ** time\n",
    "        self.price_sampler = Uniform(price_lower - eps, price_upper + eps)\n",
    "\n",
    "    def sample(self) -> Tensor:\n",
    "        state = {\n",
    "            'wealth': self.wealth_sampler.sample((self.sim_size, 1)),\n",
    "            'prices': self.price_sampler.sample((self.sim_size, number_risky_assets))\n",
    "        }\n",
    "        return state\n",
    "\n",
    "\n",
    "class RandomEffectsSampler:\n",
    "    def __init__(self, sim_size: int):\n",
    "        self.sim_size = sim_size\n",
    "        self.returns_sampler = md\n",
    "\n",
    "    def sample(self, steps: int) -> Tensor:\n",
    "        return [{'returns': self.returns_sampler.sample((self.sim_size, number_risky_assets))} \n",
    "                 for _ in range(steps)]"
   ]
  },
  {
   "cell_type": "markdown",
   "metadata": {},
   "source": [
    "Create a dictionary containing all the relevant components:"
   ]
  },
  {
   "cell_type": "markdown",
   "metadata": {},
   "source": [
    "## NNContPI"
   ]
  },
  {
   "cell_type": "markdown",
   "metadata": {},
   "source": [
    "Create a fresh copy of the model and extract the components:"
   ]
  },
  {
   "cell_type": "code",
   "execution_count": 24,
   "metadata": {},
   "outputs": [],
   "source": [
    "cost_to_go = copy.deepcopy(square_replication_error)"
   ]
  },
  {
   "cell_type": "markdown",
   "metadata": {},
   "source": [
    "Choose the sample size for the Monte-Carlo simulation and perform the NNContPi optimization routine:"
   ]
  },
  {
   "cell_type": "code",
   "execution_count": 25,
   "metadata": {},
   "outputs": [
    {
     "name": "stderr",
     "output_type": "stream",
     "text": [
      "t=4 cost-to-go: 1509.4039 (lr= 1e-08): 100%|==========| 400/400 [00:06<00:00, 62.58it/s]\n",
      "t=3 cost-to-go:  761.7260 (lr= 1e-08): 100%|==========| 300/300 [00:08<00:00, 37.14it/s]\n",
      "t=2 cost-to-go:  306.5892 (lr= 1e-05): 100%|==========| 200/200 [00:07<00:00, 25.60it/s]\n",
      "t=1 cost-to-go:   72.6146 (lr= 1e-06): 100%|==========| 200/200 [00:10<00:00, 19.48it/s]\n",
      "t=0 cost-to-go:   21.3175 (lr= 0.001): 100%|==========| 200/200 [00:12<00:00, 15.76it/s]\n"
     ]
    }
   ],
   "source": [
    "sim_size = 1000000\n",
    "\n",
    "cost_to_go.to(device)\n",
    "cost_to_go.train()\n",
    "\n",
    "for time in reversed(range(len(cost_to_go) - 1)):\n",
    "    \n",
    "    training_state_sampler = TrainingStateSampler(time, sim_size)\n",
    "    random_effects_sampler = RandomEffectsSampler(sim_size)\n",
    "\n",
    "    control = cost_to_go.control_functions[time]\n",
    "    if (next_control := cost_to_go.control_functions[time + 1]) is not None:\n",
    "        control.load_state_dict(next_control.state_dict())\n",
    "        \n",
    "    objective = cost_to_go[time:]    \n",
    "    optimizer = torch.optim.AdamW(control.parameters(), lr=0.1)\n",
    "    scheduler = torch.optim.lr_scheduler.ReduceLROnPlateau(optimizer, patience=30)\n",
    "    gradient_descent_iterations = tqdm(range(max(time, 2) * 100), ascii=' =')\n",
    "    \n",
    "    for iteration in gradient_descent_iterations:\n",
    "\n",
    "        training_state = training_state_sampler.sample()\n",
    "        random_effects = random_effects_sampler.sample(objective.steps())\n",
    "\n",
    "        cost = objective(training_state, random_effects).mean()\n",
    "        \n",
    "        cost.backward()\n",
    "        optimizer.step()\n",
    "        optimizer.zero_grad()\n",
    "        \n",
    "        scheduler.step(cost)\n",
    "\n",
    "        lr = float(optimizer.param_groups[-1]['lr'])\n",
    "        gradient_descent_iterations.set_description(\n",
    "            f\"t={time} cost-to-go: {cost:9.4f} (lr={lr: .2g})\"\n",
    "        )\n",
    "    \n",
    "    objective.eval()"
   ]
  },
  {
   "cell_type": "markdown",
   "metadata": {},
   "source": [
    "Note that the time required for each gadient descent iteration increases as the backward pass advances."
   ]
  },
  {
   "cell_type": "markdown",
   "metadata": {},
   "source": [
    "Plot the expected square replication errors as implied by `cost_to_go` and the analytical solution against the initial wealth."
   ]
  },
  {
   "cell_type": "code",
   "execution_count": 26,
   "metadata": {},
   "outputs": [
    {
     "data": {
      "image/png": "[encoded data removed]",
      "text/plain": [
       "<Figure size 640x480 with 1 Axes>"
      ]
     },
     "metadata": {},
     "output_type": "display_data"
    }
   ],
   "source": [
    "adp_replication_costs = []\n",
    "\n",
    "cost_to_go.to(device)\n",
    "cost_to_go.eval()\n",
    "\n",
    "for initial_wealth in initial_wealths:\n",
    "    state = {'wealth': initial_wealth.view(1, 1), \n",
    "             'prices': initial_value.view(1, 1)}\n",
    "    adp_replication_costs.append(float(cost_to_go(state, random_effects).mean()))\n",
    "\n",
    "\n",
    "plt.title(\"Square replication error\")\n",
    "plt.xlabel(\"Initial wealth $W_0$\")\n",
    "plt.plot(initial_wealths.cpu(), analytic_replication_costs, label=\"Analytic\")\n",
    "plt.plot(initial_wealths.cpu(), adp_replication_costs, label=f\"ADP\")\n",
    "plt.grid()\n",
    "plt.legend()\n",
    "plt.show()"
   ]
  }
 ],
 "metadata": {
  "kernelspec": {
   "display_name": "ml-adp-3Nj2-Xsn-py3.10",
   "language": "python",
   "name": "python3"
  },
  "language_info": {
   "codemirror_mode": {
    "name": "ipython",
    "version": 3
   },
   "file_extension": ".py",
   "mimetype": "text/x-python",
   "name": "python",
   "nbconvert_exporter": "python",
   "pygments_lexer": "ipython3",
   "version": "3.10.11"
  }
 },
 "nbformat": 4,
 "nbformat_minor": 2
}
