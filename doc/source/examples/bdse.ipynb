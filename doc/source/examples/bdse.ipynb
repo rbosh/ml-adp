{
 "cells": [
  {
   "cell_type": "markdown",
   "metadata": {},
   "source": [
    "# Deep Backward Schemes For High-Dimensional Non-Linear PDEs: Discussion of Huré et al. arXiv:1902.01599\n",
    "\n",
    "See [the arXiv page](https://arxiv.org/abs/1902.01599)."
   ]
  },
  {
   "cell_type": "markdown",
   "metadata": {},
   "source": [
    "## FBSDE Recap\n",
    "\n",
    "$(\\Omega,\\mathcal{F}, \\mathbb{P},(\\mathcal{F}_t)_{t\\in[0,T]}, W)$ stochastic basis ($W$ $d$-dimensional B.m.).\n",
    "\n",
    "Given $$\\mu\\colon [0,T]\\times\\mathbb{R}^{n}\\to\\mathbb{R}^n,\\quad \\sigma\\colon [0, T]\\times\\mathbb{R}^n\\to\\mathbb{R}^{n\\times d},\\quad x_{0}\\in\\mathbb{R}^{n}$$ and $$f\\colon [0,T]\\times\\mathbb{R}^{n}\\times\\mathbb{R}^{m}\\times\\mathbb{R}^{m\\times d}\\to\\mathbb{R}^{m},\\quad g\\colon \\mathbb{R}^{n}\\to\\mathbb{R}^{m}$$ consider triples $(X,Y,Z)$ solving FBSDE $$dX_{t} = \\mu(t, X_{t})dt + \\sigma(t, X_{t})dW_{t},\\quad X_{0} = x_{0}$$ and $$-dY_{t} = f(t, X_{t}, Y_{t}, Z_{t})dt - Z_{t} dW_{t},\\quad Y_{t} = g(X_{T}).$$\n",
    "\n",
    "Modulo technical conditions have $$(Y_{t}, Z_{t}) = \\left(u(t, X_{t}), \\nabla u(t, X_{t})^\\top \\sigma(t, X_{t})\\right),\\quad\\quad (\\star)$$ where $$(\\partial_{t} + \\mathcal{L}_{t}) u(t,x) + f(t, x, u(t,x), \\nabla u(t,x)^{\\top}\\sigma(t,x)) = 0, \\quad u(T,\\cdot) = g$$ and $\\mathcal{L}_{t} u(t,x) = \\langle \\mu(t,x),\\nabla u(t,x)\\rangle + \\frac{1}{2}\\langle \\sigma^{2}(t,x),\\nabla^{2} u(t,x)\\rangle$.\n",
    "\n"
   ]
  },
  {
   "cell_type": "markdown",
   "metadata": {},
   "source": [
    "## Discretized Backward DP Approach\n",
    "\n",
    "For discretization choose number of steps $N$, step size $h = T/N$, and define discretization time points $t_i = i * h$ for $i=0,1,\\dots, N$.\n",
    "Forward discretizations ($\\Delta$ indicates backward difference operator):\n",
    "$$X_{t_{i+1}} = X_{t_i} + \\mu(t_i, X_{t_i})\\Delta t_{i+1} + \\sigma(t_i, X_{t_i})\\Delta W_{t_{i+1}}$$\n",
    "and \n",
    "$$Y_{t_{i+1}} = Y_{t_i} - f(t_i, X_{t_i}, Y_{t_i}, Z_{t_i})\\Delta t_{i+1} + Z_{t_i}\\Delta W_{t_{i+1}}$$\n",
    "\n",
    "State and control?\n",
    "Combine discretizations with $(\\star)$ and include *forward control* $y^f$ and *backward control* $y^b$ s.t. $$s_t = (x_t, y^f_t),\\quad a_t = (y^b_t, z_t).$$\n",
    "\n",
    "Forward control is computed using state transition function $$S_{t_{i+1}}((x, y^{f}), (y^{b}, z), \\Delta w) = (x + \\mu(t_{i}, x)\\Delta t_{i+1} + \\sigma(t_{i}, x)\\Delta w, y^{b} - f(t_{i}, x, y^{b}, z) \\Delta t_{i+1} + z\\Delta w)$$ while for backward control leverage $(\\star)$: \n",
    "Employ neural network based control functions, i.e. $$y^{b}_{t_{i}} = f^{\\theta_{i}}(x_{t_{i}}),$$ and do the same for $z_{t_{i}}$ as well (or compute $z_{t_{i}}$ using representation $(\\star)$ and automatic differentiation of neural network $f^{\\theta_{i}}$).\n",
    "Note that $f^{\\theta_{i}}$ takes the role of $u(t_{i}, \\cdot)$ and that the last control function is known: $u(T,\\cdot) = g$.\n",
    "Using backwards iterative procedure train control functions to produce a forward control that best reproduces the backward control of the next step.\n",
    "Cost functions relevant to training of time-$t_i$ control:\n",
    "$$L_{t_{i+1}}(s_{t_{i+1}}, a_{t_{i+1}}) = |y_{t_{i+1}}^{f} - y_{t_{i+1}}^{b}|^2$$\n",
    "where $y_{t+1}$ function of time-$t_i$ control via state transition function and $y_{t_{i+1}}^{b}$ produced by time-$t_{i+1}$ control (which remains fixed).\n",
    "\n"
   ]
  },
  {
   "cell_type": "code",
   "execution_count": 1,
   "metadata": {},
   "outputs": [],
   "source": [
    "import torch\n",
    "from ml_adp.cost import CostToGo"
   ]
  },
  {
   "cell_type": "markdown",
   "metadata": {},
   "source": [
    "Fix model parameters:"
   ]
  },
  {
   "cell_type": "code",
   "execution_count": 3,
   "metadata": {},
   "outputs": [],
   "source": [
    "import math\n",
    "from typing import Union\n",
    "\n",
    "Number = Union[float, torch.Tensor]\n",
    "\n",
    "n = 1; m = 1; d = 1\n",
    "T = 1.\n",
    "N = 5; h = T/N; time_discretization = torch.arange(0., T + h, h)\n",
    "\n",
    "\n",
    "def mu(t: Number, x: torch.Tensor) -> torch.Tensor:\n",
    "    return .2 * torch.ones(n) / n\n",
    "\n",
    "\n",
    "def sigma(t: Number, x: torch.Tensor) -> torch.Tensor:\n",
    "    return torch.eye(n) / math.sqrt(n)\n",
    "\n",
    "\n",
    "def f(t: Number, x: torch.Tensor, y: torch.Tensor, z: torch.Tensor) -> torch.Tensor:\n",
    "    bar_x = x.sum(axis=1, keepdim=True)\n",
    "    e = math.exp(.5 * (T - t))\n",
    "    temp = torch.einsum('...i,...ij->...', y, z).unsqueeze(1)\n",
    "    return (bar_x.cos() * (e + .5) + .2 * bar_x.sin()) * e \\\n",
    "        - .5 * (bar_x.sin() * bar_x.cos() * e) ** 2 \\\n",
    "        + .5 *  temp ** 2 / n\n",
    "\n",
    "\n",
    "def g(x: torch.Tensor):\n",
    "    return x.cos()\n",
    "\n",
    "\n",
    "\n",
    "hidden_size = (10 + n, 10 + n)"
   ]
  },
  {
   "cell_type": "markdown",
   "metadata": {},
   "source": [
    "Create empty `CostToGo`-object:"
   ]
  },
  {
   "cell_type": "code",
   "execution_count": 4,
   "metadata": {},
   "outputs": [
    {
     "data": {
      "text/plain": [
       "CostToGo(\n",
       " time |      state_func      |     control_func     |      cost_func       \n",
       "===========================================================================\n",
       "    0                                  None                   None         \n",
       "    1           None                   None                   None         \n",
       "    2           None                   None                   None         \n",
       "    3           None                   None                   None         \n",
       "    4           None                   None                   None         \n",
       "    5           None                   None                   None         \n",
       "   (6)          None                                                       \n",
       ")"
      ]
     },
     "execution_count": 4,
     "metadata": {},
     "output_type": "execute_result"
    }
   ],
   "source": [
    "cost_to_go = CostToGo.from_number_of_steps(N)\n",
    "cost_to_go"
   ]
  },
  {
   "cell_type": "markdown",
   "metadata": {},
   "source": [
    "Define state transition functions and loss functions:"
   ]
  },
  {
   "cell_type": "code",
   "execution_count": 5,
   "metadata": {},
   "outputs": [],
   "source": [
    "import warnings\n",
    "from typing import Tuple, Callable\n",
    "\n",
    "\n",
    "class SimStep(Callable):\n",
    "    def __init__(self, mu: Callable, sigma: Callable, f: Callable, t: Number, h: Number) -> None:\n",
    "        super().__init__()\n",
    "        self.mu = mu; self.sigma = sigma\n",
    "        self.f = f\n",
    "        self.t = t; self.h = h\n",
    "\n",
    "    def __call__(self, \n",
    "                state: Tuple[torch.Tensor, torch.Tensor], \n",
    "                control: Tuple[torch.Tensor, torch.Tensor], \n",
    "                brownian_increment: torch.Tensor) -> Tuple[torch.Tensor, torch.Tensor]:\n",
    "        X = state[0]; Y = control[0]; Z = control[1]\n",
    "        mu = self.mu(self.t, X); sigma = self.sigma(self.t, X)\n",
    "        f = self.f(self.t, X, Y, Z)\n",
    "\n",
    "        X_next = X + mu * self.h + torch.einsum('...ij,...j->...i', sigma, brownian_increment)\n",
    "        Y_next = Y - f * self.h + torch.einsum('...ij,...j->...i', Z, brownian_increment)#.unsqueeze(1)\n",
    "\n",
    "        return X_next, Y_next\n",
    "\n",
    "\n",
    "def L(state: Tuple[torch.Tensor, torch.Tensor], control: Tuple[torch.Tensor, torch.Tensor]) -> torch.Tensor:\n",
    "    Y_forward = state[1]\n",
    "    Y_backward = control[0]\n",
    "    return (Y_forward - Y_backward).square()\n"
   ]
  },
  {
   "cell_type": "markdown",
   "metadata": {},
   "source": [
    "Set state functions and cost functions:"
   ]
  },
  {
   "cell_type": "code",
   "execution_count": 6,
   "metadata": {},
   "outputs": [
    {
     "data": {
      "text/plain": [
       "CostToGo(\n",
       " time |      state_func      |     control_func     |      cost_func       \n",
       "===========================================================================\n",
       "    0                                  None                   L(-)         \n",
       "    1        SimStep(-)                None                   L(-)         \n",
       "    2        SimStep(-)                None                   L(-)         \n",
       "    3        SimStep(-)                None                   L(-)         \n",
       "    4        SimStep(-)                None                   L(-)         \n",
       "    5        SimStep(-)                None                   L(-)         \n",
       "   (6)          None                                                       \n",
       ")"
      ]
     },
     "execution_count": 6,
     "metadata": {},
     "output_type": "execute_result"
    }
   ],
   "source": [
    "for i, t in enumerate(time_discretization[:-1]):\n",
    "    cost_to_go.state_functions[i] = SimStep(mu, sigma, f, t, h)\n",
    "\n",
    "cost_to_go.cost_functions[:] = L\n",
    "\n",
    "cost_to_go"
   ]
  },
  {
   "cell_type": "markdown",
   "metadata": {},
   "source": [
    "Define neural network based control functions:"
   ]
  },
  {
   "cell_type": "code",
   "execution_count": 7,
   "metadata": {},
   "outputs": [],
   "source": [
    "from ml_adp.nn import FFN\n",
    "\n",
    "class FKControl(torch.nn.Module):\n",
    "    def __init__(self, n: int, hidden_size=(20, 20), **ffn_config) -> None:\n",
    "        super().__init__()\n",
    "        self.n = n\n",
    "        if ffn_config.pop('size', None) is not None:  # Side effect: Removes `size`-key value\n",
    "            warnings.warn('Pass size via hidden_size kwarg')\n",
    "        y_net_size = (self.n, *hidden_size, m)\n",
    "        z_net_size = (self.n, *hidden_size, (d, n))\n",
    "        self.y_net = FFN.from_config(size=y_net_size, **ffn_config)\n",
    "        self.z_net = FFN.from_config(size=z_net_size, **ffn_config)\n",
    "        \n",
    "    def forward(self, state: Tuple[torch.Tensor, torch.Tensor]) -> Tuple[torch.Tensor, torch.Tensor]:\n",
    "        X = state[0]  \n",
    "        return self.y_net(X), self.z_net(X)"
   ]
  },
  {
   "cell_type": "markdown",
   "metadata": {},
   "source": [
    "Set control functions:"
   ]
  },
  {
   "cell_type": "code",
   "execution_count": 8,
   "metadata": {},
   "outputs": [],
   "source": [
    "for i, t in enumerate(time_discretization[:-1]):\n",
    "    cost_to_go.control_functions[i] = FKControl(n, hidden_size)\n",
    "\n",
    "# Last one is exact, not a neural network\n",
    "cost_to_go.control_functions[-1] = lambda state: (g(state[0]), None)"
   ]
  },
  {
   "cell_type": "code",
   "execution_count": 9,
   "metadata": {},
   "outputs": [
    {
     "data": {
      "text/plain": [
       "CostToGo(\n",
       " time |      state_func      |     control_func     |      cost_func       \n",
       "===========================================================================\n",
       "    0                            FKControl(train)             L(-)         \n",
       "    1        SimStep(-)          FKControl(train)             L(-)         \n",
       "    2        SimStep(-)          FKControl(train)             L(-)         \n",
       "    3        SimStep(-)          FKControl(train)             L(-)         \n",
       "    4        SimStep(-)          FKControl(train)             L(-)         \n",
       "    5        SimStep(-)            <lambda>(-)                L(-)         \n",
       "   (6)          None                                                       \n",
       ")"
      ]
     },
     "execution_count": 9,
     "metadata": {},
     "output_type": "execute_result"
    }
   ],
   "source": [
    "cost_to_go"
   ]
  },
  {
   "cell_type": "code",
   "execution_count": 10,
   "metadata": {},
   "outputs": [],
   "source": [
    "from torch.distributions.normal import Normal\n",
    "\n",
    "training_state_sampler = Normal(torch.tensor(0.), torch.tensor(10.))\n",
    "brownian_increments_sampler = Normal(torch.tensor(0.), torch.tensor(h))"
   ]
  },
  {
   "cell_type": "code",
   "execution_count": 11,
   "metadata": {},
   "outputs": [
    {
     "name": "stdout",
     "output_type": "stream",
     "text": [
      "Time 4 objective:\n",
      "CostToGo(\n",
      " time |      state_func      |     control_func     |      cost_func       \n",
      "===========================================================================\n",
      "    0                            FKControl(train)             None         \n",
      "    1        SimStep(-)            <lambda>(-)                L(-)         \n",
      "   (2)          None                                                       \n",
      ")\n",
      "%%%%%%%%%%%%%%%%%%%%%%%%%%%%%%%%%%%%%%%%%%%%%%%%%%%%%%%%%%%%%%%%%%%%%%%%%%%\n"
     ]
    },
    {
     "name": "stderr",
     "output_type": "stream",
     "text": [
      "Time 4 Ctrl. Opt. - MSE:    0.8717: 100%|==========| 300/300 [00:14<00:00, 20.67it/s]\n"
     ]
    },
    {
     "name": "stdout",
     "output_type": "stream",
     "text": [
      "Time 3 objective:\n",
      "CostToGo(\n",
      " time |      state_func      |     control_func     |      cost_func       \n",
      "===========================================================================\n",
      "    0                            FKControl(train)             None         \n",
      "    1        SimStep(-)          FKControl(eval)              L(-)         \n",
      "   (2)          None                                                       \n",
      ")\n",
      "%%%%%%%%%%%%%%%%%%%%%%%%%%%%%%%%%%%%%%%%%%%%%%%%%%%%%%%%%%%%%%%%%%%%%%%%%%%\n"
     ]
    },
    {
     "name": "stderr",
     "output_type": "stream",
     "text": [
      "Time 3 Ctrl. Opt. - MSE:    0.0974: 100%|==========| 300/300 [00:18<00:00, 16.48it/s]\n"
     ]
    },
    {
     "name": "stdout",
     "output_type": "stream",
     "text": [
      "Time 2 objective:\n",
      "CostToGo(\n",
      " time |      state_func      |     control_func     |      cost_func       \n",
      "===========================================================================\n",
      "    0                            FKControl(train)             None         \n",
      "    1        SimStep(-)          FKControl(eval)              L(-)         \n",
      "   (2)          None                                                       \n",
      ")\n",
      "%%%%%%%%%%%%%%%%%%%%%%%%%%%%%%%%%%%%%%%%%%%%%%%%%%%%%%%%%%%%%%%%%%%%%%%%%%%\n"
     ]
    },
    {
     "name": "stderr",
     "output_type": "stream",
     "text": [
      "Time 2 Ctrl. Opt. - MSE:    0.2434: 100%|==========| 300/300 [00:16<00:00, 17.75it/s]\n"
     ]
    },
    {
     "name": "stdout",
     "output_type": "stream",
     "text": [
      "Time 1 objective:\n",
      "CostToGo(\n",
      " time |      state_func      |     control_func     |      cost_func       \n",
      "===========================================================================\n",
      "    0                            FKControl(train)             None         \n",
      "    1        SimStep(-)          FKControl(eval)              L(-)         \n",
      "   (2)          None                                                       \n",
      ")\n",
      "%%%%%%%%%%%%%%%%%%%%%%%%%%%%%%%%%%%%%%%%%%%%%%%%%%%%%%%%%%%%%%%%%%%%%%%%%%%\n"
     ]
    },
    {
     "name": "stderr",
     "output_type": "stream",
     "text": [
      "Time 1 Ctrl. Opt. - MSE:    0.2061: 100%|==========| 300/300 [00:16<00:00, 18.10it/s]\n"
     ]
    },
    {
     "name": "stdout",
     "output_type": "stream",
     "text": [
      "Time 0 objective:\n",
      "CostToGo(\n",
      " time |      state_func      |     control_func     |      cost_func       \n",
      "===========================================================================\n",
      "    0                            FKControl(train)             None         \n",
      "    1        SimStep(-)          FKControl(eval)              L(-)         \n",
      "   (2)          None                                                       \n",
      ")\n",
      "%%%%%%%%%%%%%%%%%%%%%%%%%%%%%%%%%%%%%%%%%%%%%%%%%%%%%%%%%%%%%%%%%%%%%%%%%%%\n"
     ]
    },
    {
     "name": "stderr",
     "output_type": "stream",
     "text": [
      "Time 0 Ctrl. Opt. - MSE:    0.2641: 100%|==========| 300/300 [00:16<00:00, 18.24it/s]\n"
     ]
    }
   ],
   "source": [
    "from tqdm import tqdm\n",
    "\n",
    "sim_size = 10000\n",
    "\n",
    "cost_to_go.train()\n",
    "\n",
    "for time in reversed(range(cost_to_go.number_of_steps())):\n",
    "    objective = cost_to_go[time:time+2]\n",
    "    objective.cost_functions[0] = None\n",
    "    objective.state_functions[-1] = None\n",
    "\n",
    "    print(f\"Time {time} objective:\")\n",
    "    print(objective)\n",
    "    print(75 * \"%\")\n",
    "\n",
    "    optimizer = torch.optim.Adam(params=objective.control_functions[0].parameters())\n",
    "\n",
    "    gradient_descent_iterations = tqdm(range(300), ascii=' =')\n",
    "    for iteration in gradient_descent_iterations:\n",
    "        training_state = (training_state_sampler.sample((sim_size, n)), None)\n",
    "        brownian_increments = brownian_increments_sampler.sample((objective.number_of_steps(), sim_size, d))\n",
    "\n",
    "        expected_square_loss = objective(training_state, brownian_increments).mean()\n",
    "\n",
    "        gradient_descent_iterations.set_description(\n",
    "            f\"Time {time} Ctrl. Opt. - MSE: {expected_square_loss:9.4f}\"\n",
    "        )\n",
    "\n",
    "        expected_square_loss.backward()\n",
    "        optimizer.step()\n",
    "        optimizer.zero_grad()\n",
    "\n",
    "    objective.eval()\n",
    "\n"
   ]
  },
  {
   "cell_type": "code",
   "execution_count": 12,
   "metadata": {},
   "outputs": [
    {
     "data": {
      "text/plain": [
       "CostToGo(\n",
       " time |      state_func      |     control_func     |      cost_func       \n",
       "===========================================================================\n",
       "    0                            FKControl(eval)              L(-)         \n",
       "    1        SimStep(-)          FKControl(eval)              L(-)         \n",
       "    2        SimStep(-)          FKControl(eval)              L(-)         \n",
       "    3        SimStep(-)          FKControl(eval)              L(-)         \n",
       "    4        SimStep(-)          FKControl(eval)              L(-)         \n",
       "    5        SimStep(-)            <lambda>(-)                L(-)         \n",
       "   (6)          None                                                       \n",
       ")"
      ]
     },
     "execution_count": 12,
     "metadata": {},
     "output_type": "execute_result"
    }
   ],
   "source": [
    "cost_to_go"
   ]
  },
  {
   "cell_type": "code",
   "execution_count": 16,
   "metadata": {},
   "outputs": [
    {
     "data": {
      "text/plain": [
       "[<matplotlib.lines.Line2D at 0x1149162d0>]"
      ]
     },
     "execution_count": 16,
     "metadata": {},
     "output_type": "execute_result"
    },
    {
     "data": {
      "image/png": "[encoded data removed]",
      "text/plain": [
       "<Figure size 640x480 with 1 Axes>"
      ]
     },
     "metadata": {},
     "output_type": "display_data"
    }
   ],
   "source": [
    "u = cost_to_go.control_functions[-2].y_net\n",
    "\n",
    "xs = torch.arange(-2, 4, 0.1).unsqueeze(1)\n",
    "with torch.no_grad():\n",
    "    ys = [u(xs[i].unsqueeze(0)) for i in range(len(xs))]\n",
    "\n",
    "import matplotlib.pyplot as plt\n",
    "\n",
    "plt.plot(xs, ys)"
   ]
  }
 ],
 "metadata": {
  "kernelspec": {
   "display_name": "Python 3.7.13 ('ml-adp-6wGTFvpf-py3.7')",
   "language": "python",
   "name": "python3"
  },
  "language_info": {
   "codemirror_mode": {
    "name": "ipython",
    "version": 3
   },
   "file_extension": ".py",
   "mimetype": "text/x-python",
   "name": "python",
   "nbconvert_exporter": "python",
   "pygments_lexer": "ipython3",
   "version": "3.7.13"
  },
  "orig_nbformat": 4,
  "vscode": {
   "interpreter": {
    "hash": "d4adbc008419d7cb3136b7c2959b88bc9b2efbe0fd8fff26123030fc1cf8bf36"
   }
  }
 },
 "nbformat": 4,
 "nbformat_minor": 2
}
