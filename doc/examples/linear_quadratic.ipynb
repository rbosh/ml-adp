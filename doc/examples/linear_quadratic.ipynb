{
 "cells": [
  {
   "cell_type": "markdown",
   "metadata": {},
   "source": [
    "## Linear-Controlled Quadratic-Cost Optimal Control Problems"
   ]
  },
  {
   "cell_type": "markdown",
   "metadata": {},
   "source": [
    "# Colab Specifics"
   ]
  },
  {
   "cell_type": "code",
   "execution_count": 70,
   "metadata": {},
   "outputs": [],
   "source": [
    "try:\n",
    "    from google.colab import drive\n",
    "    drive.mount('/content/drive')\n",
    "    %cd /content/drive/MyDrive/ml-adp/\n",
    "    !git pull\n",
    "    import sys\n",
    "    sys.path.insert(0, '/content/drive/MyDrive/ml-adp/src/')\n",
    "except:\n",
    "    pass"
   ]
  },
  {
   "cell_type": "markdown",
   "metadata": {},
   "source": [
    "# Imports"
   ]
  },
  {
   "cell_type": "code",
   "execution_count": 71,
   "metadata": {},
   "outputs": [],
   "source": [
    "import torch\n",
    "from torch import nn\n",
    "from ml_adp import cost as cst\n",
    "from ml_adp import finance, nn\n",
    "from ml_adp.mapping import linear, convex\n",
    "import importlib\n",
    "importlib.reload(finance)\n",
    "importlib.reload(cst)\n",
    "importlib.reload(linear)\n",
    "importlib.reload(convex)\n",
    "importlib.reload(finance)\n",
    "from torch.distributions import uniform, categorical, normal\n",
    "import itertools as it\n",
    "import functools as ft\n",
    "import matplotlib.pyplot as plt\n",
    "import copy"
   ]
  },
  {
   "cell_type": "markdown",
   "metadata": {},
   "source": [
    "# Device Settings"
   ]
  },
  {
   "cell_type": "code",
   "execution_count": 72,
   "metadata": {},
   "outputs": [
    {
     "name": "stdout",
     "output_type": "stream",
     "text": [
      "cpu\n"
     ]
    }
   ],
   "source": [
    "device = torch.device(\"cuda:0\" if torch.cuda.is_available() else \"cpu\")\n",
    "print(device)"
   ]
  },
  {
   "cell_type": "markdown",
   "metadata": {},
   "source": [
    "# Linear-Controlled-Quadratic-Cost Stochastic Test Case"
   ]
  },
  {
   "cell_type": "markdown",
   "metadata": {},
   "source": [
    "# Problem Specification"
   ]
  },
  {
   "cell_type": "code",
   "execution_count": 73,
   "metadata": {},
   "outputs": [],
   "source": [
    "#torch.einsum(\n",
    "#    'b...k,bjk->b...j',\n",
    "#    torch.rand(50,4,5,6,3),\n",
    "#    torch.rand(50,7,3)\n",
    "#).size()\n",
    "# \n",
    "# torch.einsum(\n",
    "#    'bm...n,bn->bm...',\n",
    "#    torch.rand(50,3,3,4),\n",
    "#    torch.rand(50,4,5)\n",
    "#).size()\n",
    "# torch.rand(50,4,4)[1,2]\n"
   ]
  },
  {
   "cell_type": "code",
   "execution_count": 74,
   "metadata": {},
   "outputs": [
    {
     "name": "stderr",
     "output_type": "stream",
     "text": [
      "/Users/rubenwiedemann/Library/Caches/pypoetry/virtualenvs/ml-adp-2N881lJP-py3.7/lib/python3.7/site-packages/torch/nn/init.py:388: UserWarning: Initializing zero-element tensors is a no-op\n",
      "  warnings.warn(\"Initializing zero-element tensors is a no-op\")\n"
     ]
    }
   ],
   "source": [
    "horizon = 1\n",
    "steps = 20\n",
    "step_size = horizon/steps\n",
    "\n",
    "state_space_size = 1\n",
    "rand_eff_space_size = state_space_size\n",
    "control_space_size = 1\n",
    "\n",
    "B = torch.eye(state_space_size)\n",
    "C = torch.ones((state_space_size, control_space_size))\n",
    "D = torch.eye(state_space_size).unsqueeze(2)\n",
    "Q = torch.eye(state_space_size)\n",
    "P = torch.eye(state_space_size)\n",
    "lam = 1.0\n",
    "R = lam * torch.eye(control_space_size)\n",
    "\n",
    "linear_quadratic = cst.CostToGo.from_steps(steps)\n",
    "linear_quadratic.state_functions[:-1] = linear.LinearControlledStep(B, C, D, step_size)\n",
    "for step in range(len(linear_quadratic) - 1):\n",
    "    linear_quadratic.cost_functions[step]= linear.QuadraticStepCost.from_sym_tensorrep(Q, R, step_size)\n",
    "linear_quadratic.cost_functions[-1] = linear.QuadraticStepCost.from_sym_tensorrep(P, 0.*R, 1.0)\n",
    "\n",
    "\n",
    "for step in range(len(linear_quadratic)):\n",
    "    #linear_quadratic[step, 'control_func'] = linear.LinearMap(torch.zeros(1, state_space_size, control_space_size))\n",
    "    \n",
    "    linear_quadratic.control_functions[step] = linear.FFN.from_config([state_space_size, 120 + state_space_size, 100 + state_space_size, control_space_size])\n",
    "\n",
    "linear_quadratic._register_modules()\n",
    "\n",
    "state_samplers = []\n",
    "stand_normal = normal.Normal(torch.tensor(0.).to(device), torch.tensor(1.0).to(device))\n",
    "for step in range(len(linear_quadratic)):\n",
    "    state_samplers.append(lambda sim_size: stand_normal.sample([sim_size, state_space_size]))\n",
    "\n",
    "normal_increment = lambda sim_size, steps: [stand_normal.sample([sim_size, rand_eff_space_size]) for step in range(steps)]\n",
    "\n",
    "\n",
    "linquad_model = {\n",
    "                'cost_to_go': linear_quadratic.to(device), \n",
    "                'rand_effs_sampler': normal_increment,\n",
    "                'states_samplers': state_samplers\n",
    "                }"
   ]
  },
  {
   "cell_type": "markdown",
   "metadata": {},
   "source": [
    "# NNContPi"
   ]
  },
  {
   "cell_type": "code",
   "execution_count": 75,
   "metadata": {},
   "outputs": [],
   "source": [
    "model = copy.deepcopy(linquad_model)\n",
    "cost_to_go = model['cost_to_go']\n",
    "rand_effs_sampler = model['rand_effs_sampler']\n",
    "states_samplers = model['states_samplers']"
   ]
  },
  {
   "cell_type": "code",
   "execution_count": 76,
   "metadata": {
    "tags": []
   },
   "outputs": [
    {
     "name": "stdout",
     "output_type": "stream",
     "text": [
      "Optimizing the following model using NNContiPi-Algorithm:\n",
      "CostToGo(\n",
      "step |       state_func       |      control_func      |       cost_func        \n",
      "================================================================================\n",
      "    0           None                  FFN(eval)          QuadraticS...st(eval)  \n",
      "    1  LinearCont...ep(eval)          FFN(eval)          QuadraticS...st(eval)  \n",
      "    2  LinearCont...ep(eval)          FFN(eval)          QuadraticS...st(eval)  \n",
      "    3  LinearCont...ep(eval)          FFN(eval)          QuadraticS...st(eval)  \n",
      "    4  LinearCont...ep(eval)          FFN(eval)          QuadraticS...st(eval)  \n",
      "    5  LinearCont...ep(eval)          FFN(eval)          QuadraticS...st(eval)  \n",
      "    6  LinearCont...ep(eval)          FFN(eval)          QuadraticS...st(eval)  \n",
      "    7  LinearCont...ep(eval)          FFN(eval)          QuadraticS...st(eval)  \n",
      "    8  LinearCont...ep(eval)          FFN(eval)          QuadraticS...st(eval)  \n",
      "    9  LinearCont...ep(eval)          FFN(eval)          QuadraticS...st(eval)  \n",
      "   10  LinearCont...ep(eval)          FFN(eval)          QuadraticS...st(eval)  \n",
      "   11  LinearCont...ep(eval)          FFN(eval)          QuadraticS...st(eval)  \n",
      "   12  LinearCont...ep(eval)          FFN(eval)          QuadraticS...st(eval)  \n",
      "   13  LinearCont...ep(eval)          FFN(eval)          QuadraticS...st(eval)  \n",
      "   14  LinearCont...ep(eval)          FFN(eval)          QuadraticS...st(eval)  \n",
      "   15  LinearCont...ep(eval)          FFN(eval)          QuadraticS...st(eval)  \n",
      "   16  LinearCont...ep(eval)          FFN(eval)          QuadraticS...st(eval)  \n",
      "   17  LinearCont...ep(eval)          FFN(eval)          QuadraticS...st(eval)  \n",
      "   18  LinearCont...ep(eval)          FFN(eval)          QuadraticS...st(eval)  \n",
      "   19  LinearCont...ep(eval)          FFN(eval)          QuadraticS...st(eval)  \n",
      "                None                     None                     None          \n",
      ")\n",
      "Minizimg the first control of\n",
      "CostToGo(\n",
      "step |       state_func       |      control_func      |       cost_func        \n",
      "================================================================================\n",
      "    0            None           X  FFN(train;..0352)     - Q...st(eval;..3312)  \n",
      "                 None                     None                     None         \n",
      ")\n",
      "Step 19, MC Iteration 0: Cost 0.9855695366859436\n"
     ]
    },
    {
     "name": "stderr",
     "output_type": "stream",
     "text": [
      "[E thread_pool.cpp:112] Exception in thread pool task: mutex lock failed: Invalid argument\n"
     ]
    },
    {
     "ename": "KeyboardInterrupt",
     "evalue": "",
     "output_type": "error",
     "traceback": [
      "\u001b[0;31m---------------------------------------------------------------------------\u001b[0m",
      "\u001b[0;31mKeyboardInterrupt\u001b[0m                         Traceback (most recent call last)",
      "\u001b[0;32m/var/folders/4c/k073b4y96fb7k06xvfg9z2sw0000gp/T/ipykernel_85759/1119281435.py\u001b[0m in \u001b[0;36m<module>\u001b[0;34m\u001b[0m\n\u001b[1;32m     33\u001b[0m \u001b[0;34m\u001b[0m\u001b[0m\n\u001b[1;32m     34\u001b[0m \u001b[0;34m\u001b[0m\u001b[0m\n\u001b[0;32m---> 35\u001b[0;31m         \u001b[0mcost\u001b[0m\u001b[0;34m.\u001b[0m\u001b[0mbackward\u001b[0m\u001b[0;34m(\u001b[0m\u001b[0;34m)\u001b[0m\u001b[0;34m\u001b[0m\u001b[0;34m\u001b[0m\u001b[0m\n\u001b[0m\u001b[1;32m     36\u001b[0m         \u001b[0moptimizer\u001b[0m\u001b[0;34m.\u001b[0m\u001b[0mstep\u001b[0m\u001b[0;34m(\u001b[0m\u001b[0;34m)\u001b[0m\u001b[0;34m\u001b[0m\u001b[0;34m\u001b[0m\u001b[0m\n\u001b[1;32m     37\u001b[0m         \u001b[0moptimizer\u001b[0m\u001b[0;34m.\u001b[0m\u001b[0mzero_grad\u001b[0m\u001b[0;34m(\u001b[0m\u001b[0;34m)\u001b[0m\u001b[0;34m\u001b[0m\u001b[0;34m\u001b[0m\u001b[0m\n",
      "\u001b[0;32m~/Library/Caches/pypoetry/virtualenvs/ml-adp-2N881lJP-py3.7/lib/python3.7/site-packages/torch/_tensor.py\u001b[0m in \u001b[0;36mbackward\u001b[0;34m(self, gradient, retain_graph, create_graph, inputs)\u001b[0m\n\u001b[1;32m    253\u001b[0m                 \u001b[0mcreate_graph\u001b[0m\u001b[0;34m=\u001b[0m\u001b[0mcreate_graph\u001b[0m\u001b[0;34m,\u001b[0m\u001b[0;34m\u001b[0m\u001b[0;34m\u001b[0m\u001b[0m\n\u001b[1;32m    254\u001b[0m                 inputs=inputs)\n\u001b[0;32m--> 255\u001b[0;31m         \u001b[0mtorch\u001b[0m\u001b[0;34m.\u001b[0m\u001b[0mautograd\u001b[0m\u001b[0;34m.\u001b[0m\u001b[0mbackward\u001b[0m\u001b[0;34m(\u001b[0m\u001b[0mself\u001b[0m\u001b[0;34m,\u001b[0m \u001b[0mgradient\u001b[0m\u001b[0;34m,\u001b[0m \u001b[0mretain_graph\u001b[0m\u001b[0;34m,\u001b[0m \u001b[0mcreate_graph\u001b[0m\u001b[0;34m,\u001b[0m \u001b[0minputs\u001b[0m\u001b[0;34m=\u001b[0m\u001b[0minputs\u001b[0m\u001b[0;34m)\u001b[0m\u001b[0;34m\u001b[0m\u001b[0;34m\u001b[0m\u001b[0m\n\u001b[0m\u001b[1;32m    256\u001b[0m \u001b[0;34m\u001b[0m\u001b[0m\n\u001b[1;32m    257\u001b[0m     \u001b[0;32mdef\u001b[0m \u001b[0mregister_hook\u001b[0m\u001b[0;34m(\u001b[0m\u001b[0mself\u001b[0m\u001b[0;34m,\u001b[0m \u001b[0mhook\u001b[0m\u001b[0;34m)\u001b[0m\u001b[0;34m:\u001b[0m\u001b[0;34m\u001b[0m\u001b[0;34m\u001b[0m\u001b[0m\n",
      "\u001b[0;32m~/Library/Caches/pypoetry/virtualenvs/ml-adp-2N881lJP-py3.7/lib/python3.7/site-packages/torch/autograd/__init__.py\u001b[0m in \u001b[0;36mbackward\u001b[0;34m(tensors, grad_tensors, retain_graph, create_graph, grad_variables, inputs)\u001b[0m\n\u001b[1;32m    147\u001b[0m     Variable._execution_engine.run_backward(\n\u001b[1;32m    148\u001b[0m         \u001b[0mtensors\u001b[0m\u001b[0;34m,\u001b[0m \u001b[0mgrad_tensors_\u001b[0m\u001b[0;34m,\u001b[0m \u001b[0mretain_graph\u001b[0m\u001b[0;34m,\u001b[0m \u001b[0mcreate_graph\u001b[0m\u001b[0;34m,\u001b[0m \u001b[0minputs\u001b[0m\u001b[0;34m,\u001b[0m\u001b[0;34m\u001b[0m\u001b[0;34m\u001b[0m\u001b[0m\n\u001b[0;32m--> 149\u001b[0;31m         allow_unreachable=True, accumulate_grad=True)  # allow_unreachable flag\n\u001b[0m\u001b[1;32m    150\u001b[0m \u001b[0;34m\u001b[0m\u001b[0m\n\u001b[1;32m    151\u001b[0m \u001b[0;34m\u001b[0m\u001b[0m\n",
      "\u001b[0;31mKeyboardInterrupt\u001b[0m: "
     ]
    }
   ],
   "source": [
    "sims_size = 10000\n",
    "mc_iterations = 500\n",
    "\n",
    "cost_to_go.eval()\n",
    "\n",
    "print(\"Optimizing the following model using NNContiPi-Algorithm:\")\n",
    "print(cost_to_go)\n",
    "\n",
    "for step in range(len(cost_to_go) - 1, -1, -1):\n",
    "    \n",
    "    states_sampler = states_samplers[step]\n",
    "\n",
    "    rel_cost_to_go = cost_to_go[step:]\n",
    "    rel_cost_to_go.control_functions[0].train()\n",
    "\n",
    "    optimizer = torch.optim.Adam(rel_cost_to_go.control_functions[0].parameters(), lr=1e-6)\n",
    "    #scheduler = torch.optim.lr_scheduler.ExponentialLR(optimizer, gamma=0.9)\n",
    "\n",
    "    print(\"Minizimg the first control of\")\n",
    "    print(rel_cost_to_go.__repr__(optimizer=optimizer, include_id=True))\n",
    "\n",
    "    for iteration in range(mc_iterations):\n",
    "\n",
    "        rand_effs = rand_effs_sampler(sims_size, len(rel_cost_to_go))\n",
    "        states = states_sampler(sims_size)\n",
    "\n",
    "        cost = rel_cost_to_go(states, rand_effs).mean()\n",
    "\n",
    "        if iteration % 50 == 0:\n",
    "            print(f\"Step {step}, MC Iteration {iteration}: Cost {cost}\")\n",
    "            #scheduler.step()\n",
    "            #print(rel_cost_to_go[0, 'control_func'].linear_rep)\n",
    "\n",
    "\n",
    "        cost.backward()\n",
    "        optimizer.step()\n",
    "        optimizer.zero_grad()\n",
    "\n",
    "    if state_space_size == 1:\n",
    "        rel_cost_to_go.plot_state_component_range(\n",
    "            torch.arange(-3, 3.25, 0.25).to(device),\n",
    "            random_effects=rand_effs,\n",
    "            plot_size=(12,8)   \n",
    "        )\n",
    "    plt.show()\n",
    "\n",
    "    rel_cost_to_go.eval()"
   ]
  },
  {
   "cell_type": "code",
   "execution_count": null,
   "metadata": {},
   "outputs": [
    {
     "name": "stdout",
     "output_type": "stream",
     "text": [
      "tensor(1.2661)\n"
     ]
    }
   ],
   "source": [
    "with torch.no_grad(), cst._evaluating(cost_to_go):\n",
    "    print(rel_cost_to_go(torch.ones(state_space_size).to(device), rand_effs).mean())\n"
   ]
  },
  {
   "cell_type": "code",
   "execution_count": null,
   "metadata": {},
   "outputs": [],
   "source": [
    "states = torch.arange(-3, 3.25, .25).unsqueeze(1).to(device)\n",
    "control = cost_to_go.control_functions[-1]\n",
    "with torch.no_grad(), cst._evaluating(control):\n",
    "    controls = control(states)"
   ]
  },
  {
   "cell_type": "code",
   "execution_count": null,
   "metadata": {},
   "outputs": [
    {
     "data": {
      "text/plain": [
       "[<matplotlib.lines.Line2D at 0x126a6f350>]"
      ]
     },
     "execution_count": 63,
     "metadata": {},
     "output_type": "execute_result"
    },
    {
     "data": {
      "image/png": "[encoded data removed]",
      "text/plain": [
       "<Figure size 432x288 with 1 Axes>"
      ]
     },
     "metadata": {
      "needs_background": "light"
     },
     "output_type": "display_data"
    }
   ],
   "source": [
    "plt.plot(states.cpu().squeeze().numpy(), controls.cpu().squeeze().numpy())"
   ]
  },
  {
   "cell_type": "code",
   "execution_count": null,
   "metadata": {},
   "outputs": [
    {
     "data": {
      "text/plain": [
       "[<matplotlib.lines.Line2D at 0x1268ce290>]"
      ]
     },
     "execution_count": 45,
     "metadata": {},
     "output_type": "execute_result"
    },
    {
     "data": {
      "image/png": "[encoded data removed]",
      "text/plain": [
       "<Figure size 432x288 with 1 Axes>"
      ]
     },
     "metadata": {
      "needs_background": "light"
     },
     "output_type": "display_data"
    }
   ],
   "source": [
    "plt.plot(states.cpu().squeeze().numpy(), controls.cpu().squeeze().numpy())"
   ]
  },
  {
   "cell_type": "markdown",
   "metadata": {},
   "source": [
    "# Hybrid Now"
   ]
  },
  {
   "cell_type": "markdown",
   "metadata": {},
   "source": [
    "# Set-Up"
   ]
  },
  {
   "cell_type": "code",
   "execution_count": null,
   "metadata": {},
   "outputs": [],
   "source": [
    "model = copy.deepcopy(linquad_model)\n",
    "model['cost_approximators'] = []\n",
    "\n",
    "\n",
    "class QuadVal(nn.Module):\n",
    "    def __init__(self, config_net, config_params):\n",
    "        super(QuadVal, self).__init__()\n",
    "\n",
    "        self.picnn = convex.PICNN1( \n",
    "                            config_net, \n",
    "                            config_params, \n",
    "                            output_activation=None, \n",
    "                            param_hidden_activation=nn.ELU(),\n",
    "                            floor_func=nn.Softplus()\n",
    "                            )\n",
    "\n",
    "    def forward(self, states, controls, random_effects):\n",
    "        return self.picnn(states, torch.tensor([[1.]]).expand(states.size(0), -1))\n",
    "\n",
    "\n",
    "input_config, param_config = [1] + [150] * 2 + [1], [1] + [50] * 2 +  [1]"
   ]
  },
  {
   "cell_type": "markdown",
   "metadata": {},
   "source": [
    "# Loop"
   ]
  },
  {
   "cell_type": "code",
   "execution_count": null,
   "metadata": {},
   "outputs": [
    {
     "name": "stdout",
     "output_type": "stream",
     "text": [
      "Optimizing the following costtogo:\n",
      "CostToGo(\n",
      "step |       state_func       |      control_func      |       cost_func        \n",
      "================================================================================\n",
      "    0            None           X  FFN(train;..1536)     - Q...st(train;..3776) \n",
      "    1  - L...ep(train;..2224)   -  FFN(train;..1360)     - Q...st(train;..8880) \n",
      ")\n",
      "Step 19 Control Optimization: MC Iteration    0, Cost            1.13103\n",
      "Minimzing L2 distance between:\n",
      "CostToGo(\n",
      "step |       state_func       |      control_func      |       cost_func        \n",
      "================================================================================\n",
      "    0            None                     None           X Q...al(train;..4336) \n",
      ")\n",
      "CostToGo(\n",
      "step |       state_func       |      control_func      |       cost_func        \n",
      "================================================================================\n",
      "    0            None           -  FFN(train;..1536)     - Q...st(train;..3776) \n",
      "    1  - L...ep(train;..2224)   -  FFN(train;..1360)     - Q...st(train;..8880) \n",
      ")\n",
      "Step 19 Value Approximation: MC Iteration    0, Approximation Error        13650.98926\n",
      "Step 19 Value Approximation: MC Iteration   10, Approximation Error        13251.47461\n",
      "Step 19 Value Approximation: MC Iteration   20, Approximation Error        12916.58984\n"
     ]
    },
    {
     "ename": "KeyboardInterrupt",
     "evalue": "",
     "output_type": "error",
     "traceback": [
      "\u001b[0;31m---------------------------------------------------------------------------\u001b[0m",
      "\u001b[0;31mKeyboardInterrupt\u001b[0m                         Traceback (most recent call last)",
      "\u001b[0;32m<ipython-input-21-f0fb160b892e>\u001b[0m in \u001b[0;36m<module>\u001b[0;34m\u001b[0m\n\u001b[1;32m     70\u001b[0m             \u001b[0mplt\u001b[0m\u001b[0;34m.\u001b[0m\u001b[0mshow\u001b[0m\u001b[0;34m(\u001b[0m\u001b[0;34m)\u001b[0m\u001b[0;34m\u001b[0m\u001b[0;34m\u001b[0m\u001b[0m\n\u001b[1;32m     71\u001b[0m \u001b[0;34m\u001b[0m\u001b[0m\n\u001b[0;32m---> 72\u001b[0;31m         \u001b[0mapprox_error\u001b[0m\u001b[0;34m.\u001b[0m\u001b[0mbackward\u001b[0m\u001b[0;34m(\u001b[0m\u001b[0;34m)\u001b[0m\u001b[0;34m\u001b[0m\u001b[0;34m\u001b[0m\u001b[0m\n\u001b[0m\u001b[1;32m     73\u001b[0m         \u001b[0moptimizer\u001b[0m\u001b[0;34m.\u001b[0m\u001b[0mstep\u001b[0m\u001b[0;34m(\u001b[0m\u001b[0;34m)\u001b[0m\u001b[0;34m\u001b[0m\u001b[0;34m\u001b[0m\u001b[0m\n\u001b[1;32m     74\u001b[0m         \u001b[0moptimizer\u001b[0m\u001b[0;34m.\u001b[0m\u001b[0mzero_grad\u001b[0m\u001b[0;34m(\u001b[0m\u001b[0;34m)\u001b[0m\u001b[0;34m\u001b[0m\u001b[0;34m\u001b[0m\u001b[0m\n",
      "\u001b[0;32m~/projects/dl-adp/.venv/lib/python3.7/site-packages/torch/_tensor.py\u001b[0m in \u001b[0;36mbackward\u001b[0;34m(self, gradient, retain_graph, create_graph, inputs)\u001b[0m\n\u001b[1;32m    253\u001b[0m                 \u001b[0mcreate_graph\u001b[0m\u001b[0;34m=\u001b[0m\u001b[0mcreate_graph\u001b[0m\u001b[0;34m,\u001b[0m\u001b[0;34m\u001b[0m\u001b[0;34m\u001b[0m\u001b[0m\n\u001b[1;32m    254\u001b[0m                 inputs=inputs)\n\u001b[0;32m--> 255\u001b[0;31m         \u001b[0mtorch\u001b[0m\u001b[0;34m.\u001b[0m\u001b[0mautograd\u001b[0m\u001b[0;34m.\u001b[0m\u001b[0mbackward\u001b[0m\u001b[0;34m(\u001b[0m\u001b[0mself\u001b[0m\u001b[0;34m,\u001b[0m \u001b[0mgradient\u001b[0m\u001b[0;34m,\u001b[0m \u001b[0mretain_graph\u001b[0m\u001b[0;34m,\u001b[0m \u001b[0mcreate_graph\u001b[0m\u001b[0;34m,\u001b[0m \u001b[0minputs\u001b[0m\u001b[0;34m=\u001b[0m\u001b[0minputs\u001b[0m\u001b[0;34m)\u001b[0m\u001b[0;34m\u001b[0m\u001b[0;34m\u001b[0m\u001b[0m\n\u001b[0m\u001b[1;32m    256\u001b[0m \u001b[0;34m\u001b[0m\u001b[0m\n\u001b[1;32m    257\u001b[0m     \u001b[0;32mdef\u001b[0m \u001b[0mregister_hook\u001b[0m\u001b[0;34m(\u001b[0m\u001b[0mself\u001b[0m\u001b[0;34m,\u001b[0m \u001b[0mhook\u001b[0m\u001b[0;34m)\u001b[0m\u001b[0;34m:\u001b[0m\u001b[0;34m\u001b[0m\u001b[0;34m\u001b[0m\u001b[0m\n",
      "\u001b[0;32m~/projects/dl-adp/.venv/lib/python3.7/site-packages/torch/autograd/__init__.py\u001b[0m in \u001b[0;36mbackward\u001b[0;34m(tensors, grad_tensors, retain_graph, create_graph, grad_variables, inputs)\u001b[0m\n\u001b[1;32m    147\u001b[0m     Variable._execution_engine.run_backward(\n\u001b[1;32m    148\u001b[0m         \u001b[0mtensors\u001b[0m\u001b[0;34m,\u001b[0m \u001b[0mgrad_tensors_\u001b[0m\u001b[0;34m,\u001b[0m \u001b[0mretain_graph\u001b[0m\u001b[0;34m,\u001b[0m \u001b[0mcreate_graph\u001b[0m\u001b[0;34m,\u001b[0m \u001b[0minputs\u001b[0m\u001b[0;34m,\u001b[0m\u001b[0;34m\u001b[0m\u001b[0;34m\u001b[0m\u001b[0m\n\u001b[0;32m--> 149\u001b[0;31m         allow_unreachable=True, accumulate_grad=True)  # allow_unreachable flag\n\u001b[0m\u001b[1;32m    150\u001b[0m \u001b[0;34m\u001b[0m\u001b[0m\n\u001b[1;32m    151\u001b[0m \u001b[0;34m\u001b[0m\u001b[0m\n",
      "\u001b[0;31mKeyboardInterrupt\u001b[0m: "
     ]
    }
   ],
   "source": [
    "sims_size = 10000\n",
    "\n",
    "cost_to_go = model['cost_to_go']\n",
    "rand_effs_sampler = model['rand_effs_sampler']\n",
    "states_samplers = model['states_samplers']\n",
    "cost_approximators = model['cost_approximators']\n",
    "\n",
    "\n",
    "cost_approximator = cost_to_go[-1]  # This one is exact\n",
    "\n",
    "for step in range(cost_to_go.steps()-1, -1, -1):\n",
    "\n",
    "    states_sampler = states_samplers[step]\n",
    "\n",
    "    rel_cost_to_go = cost_to_go[step] + cost_approximator\n",
    "    rel_cost_to_go[0, 'state_func'] = None\n",
    "    rel_cost_to_go[1, 'state_func'] = cost_to_go[step+1, 'state_func']\n",
    "\n",
    "    rel_cost_to_go[0, 'control_func'].train()\n",
    "    optimizer = torch.optim.Adam(rel_cost_to_go[0, 'control_func'].parameters(), lr=1e-6)\n",
    "\n",
    "    print(\"Optimizing the following costtogo:\")\n",
    "    print(rel_cost_to_go.__repr__(optimizer=optimizer, include_id=True))\n",
    "\n",
    "    for epoch in range(20):\n",
    "\n",
    "        rand_effs = rand_effs_sampler(sims_size, len(rel_cost_to_go))\n",
    "        states = states_sampler(sims_size)\n",
    "        cost = rel_cost_to_go(states, None, rand_effs).mean()\n",
    "\n",
    "        if epoch % 100 == 0:\n",
    "            print(f\"Step {step} Control Optimization: MC Iteration {epoch : >4}, Cost {cost : >18.5f}\")\n",
    "\n",
    "        cost.backward()\n",
    "        optimizer.step()\n",
    "        optimizer.zero_grad()\n",
    "\n",
    "    cost_approximator = cst.CostToGo.from_steps(0)\n",
    "    cost_approximator[-1, 'cost_func'] = QuadVal(input_config, param_config)\n",
    "    cost_approximator.to(device)\n",
    "    cost_approximators.append(cost_approximator)\n",
    "\n",
    "    cost_approximator.eval()\n",
    "    cost_approximator[0, 'cost_func'].train()\n",
    "\n",
    "    optimizer = torch.optim.Adam(cost_approximator[0, 'cost_func'].parameters(), lr=1e-3)\n",
    "\n",
    "    print(\"Minimzing L2 distance between:\")\n",
    "    print(cost_approximator.__repr__(optimizer=optimizer, include_id=True))\n",
    "    print(rel_cost_to_go.__repr__(optimizer=optimizer, include_id=True))\n",
    "\n",
    "    for epoch in range(5000):\n",
    "\n",
    "        rand_effs = rand_effs_sampler(sims_size, len(rel_cost_to_go))\n",
    "        states = states_sampler(sims_size)\n",
    "\n",
    "        approx_error = torch.norm(rel_cost_to_go(states, None, rand_effs) - cost_approximator(states, None, rand_effs), p=2)\n",
    "\n",
    "        if epoch % 100 == 0:\n",
    "            print(f\"Step {step} Value Approximation: MC Iteration {epoch : >4}, Approximation Error {approx_error : >18.5f}\")\n",
    "\n",
    "        if epoch % 1000 == 0 and epoch > 0 & state_space_size == 1:\n",
    "            cost_approximator.plot_state_component_range(\n",
    "                torch.arange(-3., 3.25, 0.25),\n",
    "                controls=None,\n",
    "                random_effects=rand_effs,\n",
    "                versus=rel_cost_to_go,\n",
    "                plot_size=(8,5)\n",
    "            )\n",
    "            plt.show()\n",
    "\n",
    "        approx_error.backward()\n",
    "        optimizer.step()\n",
    "        optimizer.zero_grad()\n",
    "\n",
    "    cost_approximator.eval()"
   ]
  },
  {
   "cell_type": "code",
   "execution_count": null,
   "metadata": {},
   "outputs": [],
   "source": []
  }
 ],
 "metadata": {
  "interpreter": {
   "hash": "a733f98d82b883d90bb00fdbc3caaa07cdbb461b072f8844f0ec223333a08df1"
  },
  "kernelspec": {
   "display_name": "Python 3.7.11 64-bit",
   "name": "python3"
  },
  "language_info": {
   "codemirror_mode": {
    "name": "ipython",
    "version": 3
   },
   "file_extension": ".py",
   "mimetype": "text/x-python",
   "name": "python",
   "nbconvert_exporter": "python",
   "pygments_lexer": "ipython3",
   "version": "3.7.11"
  },
  "orig_nbformat": 4
 },
 "nbformat": 4,
 "nbformat_minor": 2
}
