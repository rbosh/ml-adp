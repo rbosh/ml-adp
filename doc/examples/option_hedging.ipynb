{
 "cells": [
  {
   "cell_type": "markdown",
   "metadata": {},
   "source": [
    "## European Call Option Hedging"
   ]
  },
  {
   "cell_type": "markdown",
   "metadata": {},
   "source": [
    "Consider the example of an investor hedging a European contingent claim $H$ in a financial market of $d$ securities and $T$ trading periods until the maturity of $H$.\n",
    "We identify the securities with their price processes $P^{(1)},\\dots, P^{(d)}$ which we assume to be non-negative stochastic processes on a probability space $(\\Omega, \\mathcal{F}, \\mathbb{P})$ adapted to a filtration $(\\mathcal{G}_t)_{t=0}^T$. \n",
    "Additionally, $P^{(0)}$ shall refer to the money market account/security.\n",
    "\n",
    "We assume the market to have independent increments, meaning that for every security $S^{(i)}$ the process of its excess returns $$R^{(i)}_t = \\Delta P^{(i)}_{t+1} / P^{(i)}_t,\\quad t=0,\\dots, T$$ as a family of random variables, is independent. \n",
    "\n",
    "The investor's self-financing hedging strategy corresponds to an adapted process $(a_0,\\dots, a_T)$ with positions in $\\mathbb{R}^d$ indicating at each time the net amounts invested into all but one designated asset of market's primary securities:\n",
    "For the portfolio to indeed be self-financing, the missing position in the designated asset - which we take to be the money market account $P^{(0)}$) - must be $a^{(0)}_t = \\sum_{i=1}^d a^{(i)}_t$.  \n",
    "Given some initial level $w_0$ of funds invested into the strategy $a$, the corresponding *wealth process* $w_t$ is given by $$w_{t+1} = w_t + a_t\\cdot R_{t+1} + (w_t - \\sum_t a_t)R^{(0)}_{t+1}.$$ It is the hedging investor's objective to incur a minimal *square replication error* $|w_T - H|^2$ and the tool at his disposal is the varying amount of initial endowment $w_0$:\n",
    "If the claim $H$ is attainable, then the initial endowment $w_0$ for wh\n",
    "\n",
    "We recognize this problem to be a particular instance of a stochastic optimal control problem $OCP$ for which at each time $t$ the state relevant to the investor is the current wealth of his portfolio together with the current market state: $s_t = (w_t, r_t)$ and that the investor controls the problem through his investments $\\tilde{a}_t$ into the risky asset.\n",
    "$$F_t(s_t, a_t)  = (w_t + \\tilde{a}_t\\cdot r_{t+1}, (1 + r_t)s_t)$$\n",
    "which as a random function can easily can be seen to factorize into a function on Euclidean space $\\tilde{F}$ over the excess returns: $F_t(s_t, a_t) = \\tilde{F}(s_t, a_t, R_{t+1})$ with $$\\tilde{F}(s_t, a_t, r_{t+1}) = (w_t + \\tilde{a}_t\\cdot r_{t+1}, (1 + r_{t})s_t).$$ Setting $k_0,\\dots, k_{T-1}$ to zero and $$k_T(s_T, a_T) = |H(s_T) - w_T|$$ we find all these to be deterministic cost functions.\n"
   ]
  },
  {
   "cell_type": "markdown",
   "metadata": {},
   "source": [
    "# Imports"
   ]
  },
  {
   "cell_type": "markdown",
   "metadata": {},
   "source": [
    "As introduced above, the optimal control problem expresses the agent's objective and for the problem and lies in the scope of `ml_adp`.\n",
    "We import the necessary packages to solve the optimal control problem using `ml_adp`:"
   ]
  },
  {
   "cell_type": "code",
   "execution_count": 1,
   "metadata": {},
   "outputs": [],
   "source": [
    "import torch\n",
    "import ml_adp.cost, ml_adp.finance, ml_adp.nn, ml_adp.mapping\n",
    "import matplotlib.pyplot as plt\n",
    "import copy\n",
    "from tqdm import tqdm"
   ]
  },
  {
   "cell_type": "markdown",
   "metadata": {},
   "source": [
    "# Device Settings"
   ]
  },
  {
   "cell_type": "markdown",
   "metadata": {},
   "source": [
    "Enable GPU acceleration of the numerical simulation, if available."
   ]
  },
  {
   "cell_type": "code",
   "execution_count": 2,
   "metadata": {},
   "outputs": [
    {
     "name": "stdout",
     "output_type": "stream",
     "text": [
      "cpu\n"
     ]
    }
   ],
   "source": [
    "device = torch.device(\"cuda:0\" if torch.cuda.is_available() else \"cpu\")\n",
    "print(device)"
   ]
  },
  {
   "cell_type": "markdown",
   "metadata": {},
   "source": [
    "# Market Specification"
   ]
  },
  {
   "cell_type": "markdown",
   "metadata": {},
   "source": [
    "More concretely, we take for the example\n",
    "\n",
    "* the financial market to have $5$ trading periods and consist of a single risky asset trading at a current level of $100$: $T=5$, $d=1$ and $P_0 = 100$ (setting $P=P^{(1)}$ and $R=R^{(1)}$)\n",
    "* A multinomial model for the securities returns: $R_0,\\dots, R_T$ i.i.d. with law either $(3/10*\\delta_{\\{-0.05\\}} + 1/10*\\delta_{\\{0\\}} + 6/10 * \\delta_{\\{0.05\\}})$ (giving a multinomial model) or $LogN(\\mu, \\sigma)$ (giving the discrete-time Black-Scholes model)\n",
    "* The locally risk-free asset yielding nothing: $R_t^{(0)} = 0$ for all times $t$"
   ]
  },
  {
   "cell_type": "code",
   "execution_count": 3,
   "metadata": {},
   "outputs": [],
   "source": [
    "number_periods = 5\n",
    "number_risky_assets = 1\n",
    "\n",
    "risk_free_rate = 0.\n",
    "\n",
    "initial_value = 100.\n",
    "\n",
    "rets = torch.tensor([0.05, -0.05, 0.0]).to(device)\n",
    "probs = torch.tensor([0.6, 0.3, 0.1]).to(device)\n",
    "multinomial_returns_sampler = ml_adp.finance.MultinomialReturnsSampler(rets, probs)\n",
    "\n",
    "black_scholes_sampler = ml_adp.finance.BlackScholesReturnsSampler(0.0, 1.0)"
   ]
  },
  {
   "cell_type": "markdown",
   "metadata": {},
   "source": [
    "Also, we take $H$ to be a European call option on $S$ with maturity $5$ and strike equal to the initial price of $S$: $$H = (S_5 - 100)^+.$$\n",
    "The module :py:class:`ml_adp.finance.EuropeanCallOption` implements such claims:"
   ]
  },
  {
   "cell_type": "code",
   "execution_count": 4,
   "metadata": {},
   "outputs": [],
   "source": [
    "option = ml_adp.finance.EuropeanCallOption(strike=100., underlying_index=1)"
   ]
  },
  {
   "cell_type": "markdown",
   "metadata": {},
   "source": [
    "As a callable, ``option`` will accept samples of states $s_T=(w_T, p_T)$ and produce the corresponding sample of payoffs.\n",
    "Given any such callable, :py:class:`ml_adp.finance.SquareReplicationError` will produce the square replication error.\n",
    ":py:class:`ml_adp.finance.MarketStep`` instead implements the state transition function $\\tilde{F}$."
   ]
  },
  {
   "cell_type": "code",
   "execution_count": 5,
   "metadata": {},
   "outputs": [],
   "source": [
    "square_replication_error = ml_adp.cost.CostToGo.from_steps(number_periods)\n",
    "square_replication_error.state_functions[:-1] = ml_adp.finance.MarketStep(risk_free_rate)\n",
    "square_replication_error.cost_functions[-1] = ml_adp.finance.SquareReplicationError(option)"
   ]
  },
  {
   "cell_type": "markdown",
   "metadata": {},
   "source": [
    "We know the analytical solution for this case:"
   ]
  },
  {
   "cell_type": "code",
   "execution_count": 6,
   "metadata": {},
   "outputs": [],
   "source": [
    "def v0(wp, excess_returns=None):\n",
    "    wealth = wp[:, [0]]\n",
    "    return .577 * (wealth ** 2) - 5.355 * wealth + 12.413248637\n",
    "\n",
    "analytic_cost = ml_adp.cost.CostToGo.from_steps(0)\n",
    "analytic_cost.cost_functions[0] = v0"
   ]
  },
  {
   "cell_type": "markdown",
   "metadata": {},
   "source": [
    "The option has an analytic value of $4.5$:"
   ]
  },
  {
   "cell_type": "code",
   "execution_count": 7,
   "metadata": {},
   "outputs": [
    {
     "data": {
      "text/plain": [
       "tensor([[0.]])"
      ]
     },
     "execution_count": 7,
     "metadata": {},
     "output_type": "execute_result"
    }
   ],
   "source": [
    "analytic_cost(torch.tensor([4.5]))"
   ]
  },
  {
   "cell_type": "markdown",
   "metadata": {},
   "source": [
    "# Control Function Specification"
   ]
  },
  {
   "cell_type": "markdown",
   "metadata": {},
   "source": [
    "We are now at the point where the neural networks to be used as the control functions must be specified which generally is an exercise of the domain expert.\n",
    "He will have noticed that, in the present case, the lack of dependence of the cost functions on the random effects (deterministic costs) implies an optimal control, effectively, to also not depend on the random effects. \n",
    "Moreover, he will be informed (by e.g. [arXiv:1812.05916v3](https://arxiv.org/abs/1812.05916v3)) that, in the given situation, the optimal control will depend linearly on the wealth level at each step and that the price levels parametrize these linear dependencies.\n",
    ":py:class:`ml_adp.mapping.linear.LinearMap` implements learnable such parametrized linear maps by having an FFN parametrize a linear transformation representation matrix\n"
   ]
  },
  {
   "cell_type": "code",
   "execution_count": 8,
   "metadata": {},
   "outputs": [],
   "source": [
    "class PFStrat(torch.nn.Module):\n",
    "    def __init__(self, hidden_layer_sizes):\n",
    "        super(PFStrat, self).__init__()\n",
    "        # Have an FFN parametrize a linear insertion (of the wealth into the control space) with (d x 1)-representation matrix \n",
    "        config = (number_risky_assets, *hidden_layer_sizes, (number_risky_assets, 1))\n",
    "        self.linear_map = ml_adp.mapping.linear.LinearMap.from_ffnconfig(config, translate=False)\n",
    "\n",
    "    def forward(self, state, rand_eff=None):  # Deterministic Cost mean no rand_effs needed\n",
    "        # Inputs to the linear map is the wealth, parameter is the price\n",
    "        return self.linear_map(state[:, [0]], state[:, 1:])"
   ]
  },
  {
   "cell_type": "markdown",
   "metadata": {},
   "source": [
    "Set the control functions.\n",
    "A configuration of two hidden layers with $30$ neurons each has been identified to work well for the controls of this particular instance of the option hedging problem:"
   ]
  },
  {
   "cell_type": "code",
   "execution_count": 32,
   "metadata": {},
   "outputs": [],
   "source": [
    "hidden_layer_sizes = (30, 30)\n",
    "for i in range(len(square_replication_error) - 1):\n",
    "    square_replication_error.control_functions[i] = PFStrat(hidden_layer_sizes)"
   ]
  },
  {
   "cell_type": "markdown",
   "metadata": {},
   "source": [
    "Inspect ``square_replication_error`` and sanity-check its representation:"
   ]
  },
  {
   "cell_type": "code",
   "execution_count": 33,
   "metadata": {},
   "outputs": [
    {
     "data": {
      "text/plain": [
       "CostToGo(\n",
       " step |          state_func          |         control_func         |          cost_func           \n",
       "===================================================================================================\n",
       "    0                                         PFStrat(train)                      None             \n",
       "    1          MarketStep(-)                  PFStrat(train)                      None             \n",
       "    2          MarketStep(-)                  PFStrat(train)                      None             \n",
       "    3          MarketStep(-)                  PFStrat(train)                      None             \n",
       "    4          MarketStep(-)                  PFStrat(train)                      None             \n",
       "    5          MarketStep(-)                       None                 SquareReplicatio...or(-)   \n",
       "   (6)              None                                                                           \n",
       ")"
      ]
     },
     "execution_count": 33,
     "metadata": {},
     "output_type": "execute_result"
    }
   ],
   "source": [
    "square_replication_error"
   ]
  },
  {
   "cell_type": "markdown",
   "metadata": {},
   "source": [
    "# Choosing the Training Distributions"
   ]
  },
  {
   "cell_type": "markdown",
   "metadata": {},
   "source": [
    "For the training distributions, the domain expert defaults to a normal distribution that for the wealths has 95% of its mass contained in the interval $[0, 10]$ (which is expected to contain the price of the option) and chooses, for the prices, again a normal distribution centered at the initial price $100$ and with the standard deviation increasing based on the number of trading periods into the market (reflecting his expectation of the distribution of the prices to get flatter with time)."
   ]
  },
  {
   "cell_type": "code",
   "execution_count": 34,
   "metadata": {},
   "outputs": [],
   "source": [
    "from torch.distributions import multivariate_normal\n",
    "\n",
    "class StateSampler:\n",
    "    def __init__(self, step):\n",
    "        loc = torch.tensor([5., initial_value]).to(device)\n",
    "        scale = torch.diag(torch.tensor([2.5**2, (initial_value * (1+0.05)**max(step, 1)) - initial_value])).to(device)\n",
    "        self.sampler = multivariate_normal.MultivariateNormal(loc, scale)\n",
    "    \n",
    "    def __call__(self, sims_size):\n",
    "        return self.sampler.sample((sims_size,))"
   ]
  },
  {
   "cell_type": "markdown",
   "metadata": {},
   "source": [
    "Create a dictionary containing all the relevant components:"
   ]
  },
  {
   "cell_type": "code",
   "execution_count": 35,
   "metadata": {},
   "outputs": [],
   "source": [
    "model = {'cost_to_go': square_replication_error,\n",
    "         'state_samplers': [StateSampler(step) for step in range(len(square_replication_error))],\n",
    "         'random_effects_samplers': len(square_replication_error) * [multinomial_returns_sampler]}"
   ]
  },
  {
   "cell_type": "markdown",
   "metadata": {},
   "source": [
    "# NNContPi"
   ]
  },
  {
   "cell_type": "markdown",
   "metadata": {},
   "source": [
    "Create a fresh copy of the model and extract the components:"
   ]
  },
  {
   "cell_type": "code",
   "execution_count": 36,
   "metadata": {},
   "outputs": [],
   "source": [
    "model = copy.deepcopy(model)\n",
    "\n",
    "cost_to_go = model['cost_to_go']\n",
    "state_samplers = model['state_samplers']\n",
    "random_effects_samplers = model['random_effects_samplers']\n"
   ]
  },
  {
   "cell_type": "markdown",
   "metadata": {},
   "source": [
    "The following optimization hyperparameters have proven themselves to work well:"
   ]
  },
  {
   "cell_type": "code",
   "execution_count": 46,
   "metadata": {},
   "outputs": [],
   "source": [
    "gradient_descent_steps = 300 \n",
    "\n",
    "optimizer_name = \"Adam\"\n",
    "lr = 0.01178377519990234  # 0.04693097149946282 Gradient descent step size"
   ]
  },
  {
   "cell_type": "markdown",
   "metadata": {},
   "source": [
    "Choose the sample size for the Monte-Carlo simulation and perform the optimization routine:"
   ]
  },
  {
   "cell_type": "code",
   "execution_count": 51,
   "metadata": {},
   "outputs": [
    {
     "name": "stdout",
     "output_type": "stream",
     "text": [
      "Optimizing the following model using NNContPi-Algorithm:\n",
      "CostToGo(\n",
      " step |          state_func          |         control_func         |          cost_func           \n",
      "===================================================================================================\n",
      "    0                                     PFStrat(train;..5648)                   None             \n",
      "    1       MarketStep(-;..5328)          PFStrat(train;..1648)                   None             \n",
      "    2       MarketStep(-;..5328)          PFStrat(train;..4816)                   None             \n",
      "    3       MarketStep(-;..5328)           PFStrat(eval;..6224)                   None             \n",
      "    4       MarketStep(-;..5328)           PFStrat(eval;..3664)                   None             \n",
      "    5       MarketStep(-;..5328)                   None                 SquareRep...or(-;..6976)   \n",
      "   (6)              None                                                                           \n",
      ")\n",
      "\n",
      "\n"
     ]
    },
    {
     "name": "stderr",
     "output_type": "stream",
     "text": [
      "Total cost of `cost_to_go[4:]`:    16.0280: 100%|██████████| 300/300 [00:06<00:00, 45.08it/s]\n",
      "Total cost of `cost_to_go[3:]`:    11.6641: 100%|██████████| 300/300 [00:10<00:00, 27.55it/s]\n",
      "Total cost of `cost_to_go[2:]`:     8.2929: 100%|██████████| 300/300 [00:17<00:00, 17.17it/s]\n",
      "Total cost of `cost_to_go[1:]`:     6.1102: 100%|██████████| 300/300 [00:23<00:00, 12.87it/s]\n",
      "Total cost of `cost_to_go[0:]`:     5.5165: 100%|██████████| 300/300 [00:26<00:00, 11.32it/s]\n"
     ]
    }
   ],
   "source": [
    "sims_size = 10000  # Monte-Carlo Simulation Size\n",
    "\n",
    "print(\"Optimizing the following model using NNContPi-Algorithm:\")\n",
    "print(cost_to_go.__repr__(include_id=True))\n",
    "\n",
    "for step in reversed(range(len(cost_to_go) - 1)):\n",
    "    \n",
    "    state_sampler = state_samplers[step]\n",
    "    random_effects_sampler = random_effects_samplers[step]\n",
    "\n",
    "    rel_cost_to_go = cost_to_go[step:]\n",
    "    optimizer = getattr(torch.optim, optimizer_name)(rel_cost_to_go.control_functions[0].parameters(), lr=lr)\n",
    "\n",
    "    gradient_descent_iterations = tqdm(range(gradient_descent_steps))\n",
    "    for iteration in gradient_descent_iterations:\n",
    "\n",
    "        states = state_sampler(sims_size)\n",
    "        rand_effs = random_effects_sampler(sims_size, len(rel_cost_to_go))\n",
    "\n",
    "        cost = rel_cost_to_go(states, rand_effs).mean()\n",
    "        cost.backward()\n",
    "        optimizer.step()\n",
    "        optimizer.zero_grad()\n",
    "\n",
    "        gradient_descent_iterations.set_description(f\"Total cost of `cost_to_go[{step}:]`:  {cost:9.4f}\")\n",
    "    \n",
    "    rel_cost_to_go.eval()"
   ]
  },
  {
   "cell_type": "markdown",
   "metadata": {},
   "source": [
    "Note the time of each gadient descent iteration to increase with the steps of the backward pass."
   ]
  },
  {
   "cell_type": "markdown",
   "metadata": {},
   "source": [
    "Plot the expected square replication errors as implied by `cost_to_go` and the analytical solution against the initial wealth and for the initial price of $100$.\n",
    "The minimum value should give the arbitrage-free price of $H$."
   ]
  },
  {
   "cell_type": "code",
   "execution_count": 52,
   "metadata": {},
   "outputs": [
    {
     "data": {
      "image/png": "[encoded data removed]",
      "text/plain": [
       "<Figure size 576x360 with 1 Axes>"
      ]
     },
     "metadata": {
      "needs_background": "light"
     },
     "output_type": "display_data"
    }
   ],
   "source": [
    "rand_effs = random_effects_samplers[-1](10000, len(cost_to_go))\n",
    "with ml_adp.cost._evaluating(cost_to_go), torch.no_grad():\n",
    "    cost_to_go.plot_state_component_range(torch.arange(0, 10, 0.25).to(device), torch.arange(100., 101., 1.).to(device), random_effects=rand_effs, versus=analytic_cost, plot_size=(8,5))"
   ]
  },
  {
   "cell_type": "markdown",
   "metadata": {},
   "source": [
    "# HybridNow"
   ]
  },
  {
   "cell_type": "markdown",
   "metadata": {},
   "source": [
    "We start anew:"
   ]
  },
  {
   "cell_type": "code",
   "execution_count": null,
   "metadata": {},
   "outputs": [],
   "source": [
    "model = copy.deepcopy(model)\n",
    "\n",
    "cost_to_go = model['cost_to_go']\n",
    "state_samplers = model['state_samplers']\n",
    "random_effects_samplers = model['random_effects_samplers']"
   ]
  },
  {
   "cell_type": "markdown",
   "metadata": {},
   "source": [
    "We perform the optimization using the HybridNow algorithm that includes value function approximation at each of the optimization steps of the above algorithm ensuring a constant run-time for each of the optimization steps.\n",
    "The domain expert will notice that the convexity of the cost function in the wealth-level translates to the convexity of the expected total cost in the wealth.\n",
    "He decides to apply *partially input-convex neural networks* (as introduced in [arXiv:1609.07152v3](https://arxiv.org/abs/1609.07152v3) and implemented by :py:class:`ml_adp.mapping.convex.PICNN1`) for value function approximation for which he expects the search space to be more efficiently traversed: "
   ]
  },
  {
   "cell_type": "code",
   "execution_count": null,
   "metadata": {},
   "outputs": [],
   "source": [
    "class PFVal(torch.nn.Module):\n",
    "    def __init__(self, input_hidden_sizes, param_hidden_sizes):\n",
    "        super(PFVal, self).__init__()\n",
    "        \n",
    "        input_config = (1, *(input_hidden_sizes), 1)\n",
    "        param_config = (1, *(param_hidden_sizes), 1)\n",
    "\n",
    "        self.picnn = ml_adp.mapping.convex.PICNN1( \n",
    "                            input_config, \n",
    "                            param_config, \n",
    "                            output_activation=None, \n",
    "                            param_hidden_activation=torch.nn.ReLU(),\n",
    "                            floor_func=torch.nn.Softplus()\n",
    "                            )\n",
    "\n",
    "    def forward(self, states, rand_effs=None):\n",
    "        return self.picnn(states[:, [0]], states[:, 1:])"
   ]
  },
  {
   "cell_type": "markdown",
   "metadata": {},
   "source": [
    "The following configurations have proven themselves to work well for the optimal control problem at hand:"
   ]
  },
  {
   "cell_type": "code",
   "execution_count": null,
   "metadata": {},
   "outputs": [],
   "source": [
    "input_hidden_sizes = (35,35)\n",
    "param_hidden_sizes = (55,55)\n",
    "\n",
    "# For the optimization of the PICNNs\n",
    "approximation_optimizer = \"SGD\"\n",
    "approximation_lr = 0.015002935353031616\n",
    "approximation_gamma = 0.9998846278130944\n",
    "\n",
    "approximation_gradient_descent_steps = 400\n"
   ]
  },
  {
   "cell_type": "markdown",
   "metadata": {},
   "source": [
    "Choose hyperparamters that have been empirically discovered to perform well:"
   ]
  },
  {
   "cell_type": "code",
   "execution_count": null,
   "metadata": {},
   "outputs": [],
   "source": [
    "sims_size = 6000\n",
    "approximation_batch_size = 30\n",
    "\n",
    "cost_approximators = []\n",
    "\n",
    "cost_approximator = cost_to_go[-1]  # This can be taken exact\n",
    "\n",
    "for step in reversed(range(len(cost_to_go) - 1)):\n",
    "\n",
    "    state_sampler = state_samplers[step]\n",
    "    random_effects_sampler = random_effects_samplers[step]\n",
    "\n",
    "    sub_ctg = cost_to_go[step] + cost_approximator\n",
    "\n",
    "    sub_ctg.control_functions[0].train()\n",
    "    optimizer = getattr(torch.optim, optimizer_name)(sub_ctg.control_functions[0].parameters(), lr=learning_rate)\n",
    "\n",
    "    print(\"Optimizing the following costtogo:\")\n",
    "    print(sub_ctg.__repr__(optimizer=optimizer, include_id=True))\n",
    "\n",
    "    for epoch in range(gradient_descent_steps):\n",
    "\n",
    "        rand_effs = random_effects_sampler(sims_size, len(rel_cost_to_go))\n",
    "        state = state_sampler(sims_size)\n",
    "        \n",
    "        cost = sub_ctg(state, rand_effs).mean()\n",
    "\n",
    "        if epoch % 100 == 0:\n",
    "            print(f\"Step {step} Control Optimization: MC Iteration {epoch : >4}, Cost {cost : >18.10f}\")\n",
    "\n",
    "        cost.backward()\n",
    "        optimizer.step()\n",
    "        optimizer.zero_grad()\n",
    "\n",
    "    sub_ctg.eval()\n",
    "\n",
    "    cost_approximator = ml_adp.cost.CostToGo.from_steps(0)\n",
    "    cost_approximator.cost_functions[-1] = PFVal(input_hidden_sizes, param_hidden_sizes)\n",
    "    cost_approximator.eval()\n",
    "    cost_approximator.to(device)\n",
    "    cost_approximators.append(cost_approximator)\n",
    "\n",
    "    cost_approximator.cost_functions[0].train()    \n",
    "    optimizer = torch.optim.Adam(cost_approximator.cost_functions[0].parameters(), lr=approximation_lr)\n",
    "\n",
    "    print(\"Minimzing L2 distance between:\")\n",
    "    print(cost_approximator.__repr__(optimizer=optimizer, include_id=True))\n",
    "    print(rel_cost_to_go.__repr__(optimizer=optimizer, include_id=True))\n",
    "\n",
    "    for epoch in range(approximation_gradient_descent_steps):\n",
    "        \n",
    "        state = state_sampler(approximation_batch_size)\n",
    "        rand_effs = random_effects_sampler(sims_size, len(sub_ctg))\n",
    "        \n",
    "        approx_cost = cost_approximator(state)\n",
    "        cost = torch.tensor([sub_ctg(state, rand_effs).mean() for state in state])\n",
    "        \n",
    "        approx_error = torch.norm(cost - approx_cost, p=2)\n",
    "            \n",
    "        if epoch % 100 == 0:\n",
    "            print(f\"Step {step} Value Approximation: MC Iteration {epoch : >4}, Approximation Error {approx_error.item() : >18.10f}\")\n",
    "\n",
    "        if epoch % 100 == 0 and epoch > 0:\n",
    "            cost_approximator.plot_state_component_range(\n",
    "                torch.arange(0., 10.5, 0.5).to(device),\n",
    "                torch.arange(100., 101.).to(device),\n",
    "                random_effects=rand_effs,\n",
    "                versus=sub_ctg,\n",
    "                plot_size=(8,5)\n",
    "            )\n",
    "            plt.show()\n",
    "\n",
    "        approx_error.backward()\n",
    "        optimizer.step()\n",
    "        optimizer.zero_grad()\n",
    "\n",
    "    cost_approximator.eval()\n",
    "    "
   ]
  },
  {
   "cell_type": "code",
   "execution_count": null,
   "metadata": {},
   "outputs": [],
   "source": []
  },
  {
   "cell_type": "code",
   "execution_count": null,
   "metadata": {},
   "outputs": [],
   "source": []
  }
 ],
 "metadata": {
  "interpreter": {
   "hash": "a733f98d82b883d90bb00fdbc3caaa07cdbb461b072f8844f0ec223333a08df1"
  },
  "kernelspec": {
   "display_name": "Python 3.7.11 64-bit ('ml-adp-2N881lJP-py3.7': poetry)",
   "name": "python3"
  },
  "language_info": {
   "codemirror_mode": {
    "name": "ipython",
    "version": 3
   },
   "file_extension": ".py",
   "mimetype": "text/x-python",
   "name": "python",
   "nbconvert_exporter": "python",
   "pygments_lexer": "ipython3",
   "version": "3.7.11"
  },
  "orig_nbformat": 4
 },
 "nbformat": 4,
 "nbformat_minor": 2
}
