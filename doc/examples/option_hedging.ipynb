{
 "cells": [
  {
   "cell_type": "markdown",
   "metadata": {},
   "source": [
    "## European Call Option Hedging"
   ]
  },
  {
   "cell_type": "markdown",
   "metadata": {},
   "source": [
    "Consider the example of an investor hedging a European contingent claim $H$ in an arbitrage free financial market of $d$ securities and $T$ trading periods until the maturity of $H$.\n",
    "We identify the securities with their price processes $P^{(1)},\\dots, P^{(d)}$ which we assume to be non-negative stochastic processes on a probability space $(\\Omega, \\mathcal{F}, \\mathbb{P})$ adapted to a filtration $(\\mathcal{G}_t)_{t=0}^T$. \n",
    "Additionally, $P^{(0)}$ shall refer to the money market account.\n",
    "Write $P_t = (P^{(1)}_t, \\dots, P^{(d)}_t)$.\n",
    "\n",
    "We assume the price processes to have independent increments, meaning that for every security the process of its excess returns $(R^{(i)}_t)_{t=0}^T$, $$R^{(i)}_t = \\Delta P^{(i)}_{t+1} / P^{(i)}_t,\\quad t=0,\\dots, T,$$ as a family of random variables, is independent.\n",
    "Write $R_t = (R^{(1)}_t, \\dots, R^{(d)}_t)$. \n",
    "\n",
    "The investor's self-financing hedging strategy corresponds to an adapted process $A=(A_0,\\dots, A_T)$ with positions $A_t = (A^{(1)}_t,\\dots, A^{(d)}_t)$ in $\\mathbb{R}^d$ indicating at each time the net amounts invested into all but one of the market's securities:\n",
    "Designating the missing security to be the money market account, then for the portfolio to indeed be self-financing the associated *wealth process* $(W_t)$ given by $W_t=\\sum_{i=1}^d A^{(i)}_t + A^{(0)}_t$ where $A^{(0)}_t$ is the investor's position in the money market account must satisfy the condition $\\Delta W_{t+1} = (A^{(0)}_t,A_t)\\cdot (R^{(0)}_{t+1}, R_{t+1})$ at all times $t$.\n",
    "Avoiding mention of $A^{(0)}$ but requiring explicit mention of $W_0$, equivalently have $$W_{t+1} = W_t + A_t\\cdot R_{t+1} + \\bigr(W_t - \\sum_{i=1}^d A_t^{(i)}\\bigr)R^{(0)}_{t+1},\\quad t=0,\\dots, T.$$ \n",
    "\n",
    "It is the hedging investor's objective to expect to incur a minimal *square replication error* $|W_T - H|^2$.\n",
    "If the claim $H$ is attainable, then the unique initial endowment $W_0$ for which the replication error is expected to vanish constitutes the fair price of the claim $H$ at time $0$.\n",
    "\n",
    "We recognize this problem to be a particular instance of a stochastic optimal control problem.\n",
    "Because of the independent excess returns, the state relevant to the investor at each time $t$ is the current wealth of his portfolio together with the current market prices: $s_t = (w_t, p_t)$. \n",
    "The investor controls the state through his investments $a_t$ into the risky assets: $$F_t(s_t, a_t) = (w_t + a_t \\cdot R_{t+1} - (w_t - \\sum_t a_t)R^{(0)}_{t+1}, (1 + R_{t+1}) s_t)$$ which as a random function can easily be seen to factorize over the excess returns into a function $\\tilde{F}$ on Euclidean space (equal for all times $t$): $F_t(s_t, a_t) = \\tilde{F}(s_t, a_t, R_{t+1})$ with $$\\tilde{F}(s_t, a_t, r_{t+1}) = (w_t + a_t\\cdot r_{t+1}, (1 + r^{(0)}_{t+1}) p_t).$$ \n",
    "\n",
    "Setting $k_0,\\dots, k_{T-1}$ to zero and $$k_T(s_T, a_T) = |H(s_T) - w_T|$$ we find that an optimal control for a such defined problem evaluates, in the invesor's context, to a perfect hedge.\n"
   ]
  },
  {
   "cell_type": "markdown",
   "metadata": {},
   "source": [
    "# Imports"
   ]
  },
  {
   "cell_type": "markdown",
   "metadata": {},
   "source": [
    "We have seen in the above that the optimal control problem lies in the scope of `ml_adp`.\n",
    "We import packages to solve the optimal control problem using `ml_adp`:"
   ]
  },
  {
   "cell_type": "code",
   "execution_count": 2,
   "metadata": {},
   "outputs": [],
   "source": [
    "import torch  # Required\n",
    "import ml_adp.cost, ml_adp.finance, ml_adp.nn, ml_adp.mapping\n",
    "import matplotlib.pyplot as plt  # Plotting\n",
    "import copy  # Try different algorithms starting from same initial state\n",
    "from tqdm import tqdm  # Progress bars for the optimization"
   ]
  },
  {
   "cell_type": "markdown",
   "metadata": {},
   "source": [
    "# Device Settings"
   ]
  },
  {
   "cell_type": "markdown",
   "metadata": {},
   "source": [
    "Enable GPU acceleration of the numerical simulation, if available."
   ]
  },
  {
   "cell_type": "code",
   "execution_count": 3,
   "metadata": {},
   "outputs": [
    {
     "name": "stdout",
     "output_type": "stream",
     "text": [
      "cpu\n"
     ]
    }
   ],
   "source": [
    "device = torch.device(\"cuda:0\" if torch.cuda.is_available() else \"cpu\")\n",
    "print(device)"
   ]
  },
  {
   "cell_type": "markdown",
   "metadata": {},
   "source": [
    "# Market Specification"
   ]
  },
  {
   "cell_type": "markdown",
   "metadata": {},
   "source": [
    "As a concrete example take\n",
    "\n",
    "* the financial market to have $5$ trading periods and consist of a single risky asset trading at a current level of $100$: $T=5$, $d=1$ and $P_0 = 100$ (setting $P=P^{(1)}$ and $R=R^{(1)}$)\n",
    "* A multinomial model for the securities returns: $R_0,\\dots, R_T$ i.i.d. with law $3/10*\\delta_{\\{-0.05\\}} + 1/10*\\delta_{\\{0\\}} + 6/10 * \\delta_{\\{0.05\\}}$\n",
    "* The locally risk-free asset yielding nothing: $R_t^{(0)} = 0$ for all times $t$"
   ]
  },
  {
   "cell_type": "code",
   "execution_count": 4,
   "metadata": {},
   "outputs": [],
   "source": [
    "number_periods = 5\n",
    "number_risky_assets = 1\n",
    "\n",
    "risk_free_rate = 0.\n",
    "\n",
    "initial_value = 100.\n",
    "\n",
    "rets = torch.tensor([0.05, -0.05, 0.0]).to(device)\n",
    "probs = torch.tensor([0.6, 0.3, 0.1]).to(device)\n",
    "multinomial_returns_sampler = ml_adp.finance.MultinomialReturnsSampler(rets, probs)"
   ]
  },
  {
   "cell_type": "markdown",
   "metadata": {},
   "source": [
    "Also, we take $H$ to be a European call option on $S$ with maturity $5$ and strike equal to the initial price of $S$: $$H = (S_5 - 100)^+.$$\n",
    "\n",
    "The module :py:class:`ml_adp.finance.EuropeanCallOption` implements such claims:"
   ]
  },
  {
   "cell_type": "code",
   "execution_count": 5,
   "metadata": {},
   "outputs": [],
   "source": [
    "option = ml_adp.finance.EuropeanCallOption(strike=100., underlying_index=1)"
   ]
  },
  {
   "cell_type": "markdown",
   "metadata": {},
   "source": [
    "As a callable, ``option`` will accept samples of states $s_T=(w_T, p_T)$ and produce the corresponding samples of payoffs.\n",
    ":py:class:`ml_adp.finance.SquareReplicationError` saves any such callable (i.e., callables producing payoffs) and produces samples of the square replication error.\n",
    ":py:class:`ml_adp.finance.MarketStep` instead implements the state transition function $\\tilde{F}$ as defined in the beginning."
   ]
  },
  {
   "cell_type": "code",
   "execution_count": 6,
   "metadata": {},
   "outputs": [
    {
     "data": {
      "text/plain": [
       "CostToGo(\n",
       " step |          state_func          |         control_func         |          cost_func           \n",
       "===================================================================================================\n",
       "    0                                              None                           None             \n",
       "    1          MarketStep(-)                       None                           None             \n",
       "    2          MarketStep(-)                       None                           None             \n",
       "    3          MarketStep(-)                       None                           None             \n",
       "    4          MarketStep(-)                       None                           None             \n",
       "    5          MarketStep(-)                       None                 SquareReplicatio...or(-)   \n",
       "   (6)              None                                                                           \n",
       ")"
      ]
     },
     "execution_count": 6,
     "metadata": {},
     "output_type": "execute_result"
    }
   ],
   "source": [
    "square_replication_error = ml_adp.cost.CostToGo.from_steps(number_periods)\n",
    "\n",
    "square_replication_error.state_functions[:-1] = ml_adp.finance.MarketStep(risk_free_rate)\n",
    "square_replication_error.cost_functions[-1] = ml_adp.finance.SquareReplicationError(option)\n",
    "\n",
    "square_replication_error"
   ]
  },
  {
   "cell_type": "markdown",
   "metadata": {},
   "source": [
    "We know the analytical solution for this case:"
   ]
  },
  {
   "cell_type": "code",
   "execution_count": 7,
   "metadata": {},
   "outputs": [],
   "source": [
    "def v0(wp, excess_returns=None):  # WIP: This is roughly estimated by hand\n",
    "    wealth = wp[:, [0]]\n",
    "    return .577 * (wealth ** 2) - 5.355 * wealth + 12.413248637\n",
    "\n",
    "analytic_cost = ml_adp.cost.CostToGo.from_steps(0)\n",
    "analytic_cost.cost_functions[0] = v0"
   ]
  },
  {
   "cell_type": "markdown",
   "metadata": {},
   "source": [
    "The option has an analytic value of $4.5$:"
   ]
  },
  {
   "cell_type": "code",
   "execution_count": 8,
   "metadata": {},
   "outputs": [
    {
     "data": {
      "text/plain": [
       "tensor([[0.]])"
      ]
     },
     "execution_count": 8,
     "metadata": {},
     "output_type": "execute_result"
    }
   ],
   "source": [
    "analytic_cost(torch.tensor([4.5]))"
   ]
  },
  {
   "cell_type": "markdown",
   "metadata": {},
   "source": [
    "# Control Function Specification"
   ]
  },
  {
   "cell_type": "markdown",
   "metadata": {},
   "source": [
    "We are at the point at which the neural networks to be used for the control functions must be specified.\n",
    "This, generally, is an exercise of the domain expert.\n",
    "A such will have noticed that, in the present case, the lack of dependence of the cost functions on the random effects (\"deterministic costs\") implies an optimal control, effectively, to also not depend on the random effects. \n",
    "Moreover, he will be informed (by e.g. [arXiv:1812.05916v3](https://arxiv.org/abs/1812.05916v3)) that, in the given situation, the optimal control will depend linearly on the wealth level at each step and that the price levels parametrize these linear dependencies.\n",
    ":py:class:`ml_adp.mapping.linear.LinearMap` implements learnable such parametrized linear maps by relying on an FFN to parametrize a linear transformation representation matrix.\n"
   ]
  },
  {
   "cell_type": "code",
   "execution_count": 49,
   "metadata": {},
   "outputs": [],
   "source": [
    "class PFStrat(torch.nn.Module):\n",
    "    def __init__(self, hidden_layer_sizes):\n",
    "        super(PFStrat, self).__init__()\n",
    "        # Have an FFN parametrize a linear insertion (of the wealth into the control space) with (d x 1)-representation matrix \n",
    "        config = (number_risky_assets, *hidden_layer_sizes, (number_risky_assets, 1))\n",
    "        self.linear_map = ml_adp.mapping.linear.LinearMap.from_ffnconfig(config, ffn_config={'hidden_activation': torch.nn.ELU()})\n",
    "\n",
    "    def forward(self, state, rand_eff=None):  # Deterministic costs mean no dependence on random effects\n",
    "        # Inputs to the linear map is the wealth, parameter is the price\n",
    "        return self.linear_map(state[:, [0]], state[:, 1:])"
   ]
  },
  {
   "cell_type": "markdown",
   "metadata": {},
   "source": [
    "Set the control functions.\n",
    "A configuration of two hidden layers with $35$ neurons each has been identified to work well for the controls of this particular instance of the option hedging problem:"
   ]
  },
  {
   "cell_type": "code",
   "execution_count": 93,
   "metadata": {},
   "outputs": [],
   "source": [
    "hidden_layer_sizes = (65, 65)\n",
    "for i in range(len(square_replication_error) - 1):\n",
    "    square_replication_error.control_functions[i] = PFStrat(hidden_layer_sizes)"
   ]
  },
  {
   "cell_type": "markdown",
   "metadata": {},
   "source": [
    "Inspect ``square_replication_error`` and sanity-check its representation:"
   ]
  },
  {
   "cell_type": "code",
   "execution_count": 94,
   "metadata": {},
   "outputs": [
    {
     "data": {
      "text/plain": [
       "CostToGo(\n",
       " step |          state_func          |         control_func         |          cost_func           \n",
       "===================================================================================================\n",
       "    0                                         PFStrat(train)                      None             \n",
       "    1          MarketStep(-)                  PFStrat(train)                      None             \n",
       "    2          MarketStep(-)                  PFStrat(train)                      None             \n",
       "    3          MarketStep(-)                  PFStrat(train)                      None             \n",
       "    4          MarketStep(-)                  PFStrat(train)                      None             \n",
       "    5          MarketStep(-)                       None                 SquareReplicatio...or(-)   \n",
       "   (6)              None                                                                           \n",
       ")"
      ]
     },
     "execution_count": 94,
     "metadata": {},
     "output_type": "execute_result"
    }
   ],
   "source": [
    "square_replication_error"
   ]
  },
  {
   "cell_type": "markdown",
   "metadata": {},
   "source": [
    "# Choosing the Training Distributions"
   ]
  },
  {
   "cell_type": "markdown",
   "metadata": {},
   "source": [
    "For the training distributions, the domain expert defaults to a normal distribution that for the wealths has 95% of its mass contained in the interval $[0, 10]$ (which is expected to contain the price of the option for every trading period) and chooses, for the prices, again a normal distribution centered at the initial price $100$ and with the standard deviation increasing based on the number of trading periods into the market (reflecting his expectation of the distribution of the prices to get flatter with time)."
   ]
  },
  {
   "cell_type": "code",
   "execution_count": 95,
   "metadata": {},
   "outputs": [],
   "source": [
    "from torch.distributions import multivariate_normal\n",
    "\n",
    "class StateSampler:\n",
    "    def __init__(self, step):\n",
    "        loc = torch.tensor([5., initial_value]).to(device)\n",
    "        covariance_matrix = torch.diag(torch.tensor([10.**2, (5.*max(step, 1))**2])).to(device)\n",
    "        self.sampler = multivariate_normal.MultivariateNormal(loc, covariance_matrix=covariance_matrix)\n",
    "    \n",
    "    def __call__(self, sims_size):\n",
    "        return self.sampler.sample((sims_size,))"
   ]
  },
  {
   "cell_type": "markdown",
   "metadata": {},
   "source": [
    "Create a dictionary containing all the relevant components:"
   ]
  },
  {
   "cell_type": "code",
   "execution_count": 96,
   "metadata": {},
   "outputs": [],
   "source": [
    "model = {'cost_to_go': square_replication_error,\n",
    "         'state_samplers': [StateSampler(step) for step in range(len(square_replication_error))],\n",
    "         'random_effects_samplers': len(square_replication_error) * [multinomial_returns_sampler]}"
   ]
  },
  {
   "cell_type": "markdown",
   "metadata": {},
   "source": [
    "# NNContPi"
   ]
  },
  {
   "cell_type": "markdown",
   "metadata": {},
   "source": [
    "Create a fresh copy of the model and extract the components:"
   ]
  },
  {
   "cell_type": "code",
   "execution_count": 103,
   "metadata": {},
   "outputs": [],
   "source": [
    "model = copy.deepcopy(model)\n",
    "\n",
    "cost_to_go = model['cost_to_go']\n",
    "state_samplers = model['state_samplers']\n",
    "random_effects_samplers = model['random_effects_samplers']\n"
   ]
  },
  {
   "cell_type": "markdown",
   "metadata": {},
   "source": [
    "The following optimization hyperparameters have proven themselves to work well:"
   ]
  },
  {
   "cell_type": "code",
   "execution_count": 104,
   "metadata": {},
   "outputs": [],
   "source": [
    "gradient_descent_steps = 300 \n",
    "\n",
    "optimizer_name = \"Adam\"\n",
    "lr = 0.01  # Gradient descent step size\n",
    "scheduler_name = \"ExponentialLR\"\n",
    "gamma = 0.9817"
   ]
  },
  {
   "cell_type": "markdown",
   "metadata": {},
   "source": [
    "Choose the sample size for the Monte-Carlo simulation and perform the optimization routine:"
   ]
  },
  {
   "cell_type": "code",
   "execution_count": 105,
   "metadata": {},
   "outputs": [
    {
     "name": "stdout",
     "output_type": "stream",
     "text": [
      "Optimizing the following model using NNContPi-Algorithm:\n",
      "CostToGo(\n",
      " step |          state_func          |         control_func         |          cost_func           \n",
      "===================================================================================================\n",
      "    0                                     PFStrat(train;..1408)                   None             \n",
      "    1       MarketStep(-;..0912)          PFStrat(train;..0896)                   None             \n",
      "    2       MarketStep(-;..0912)          PFStrat(train;..1344)                   None             \n",
      "    3       MarketStep(-;..0912)          PFStrat(train;..9360)                   None             \n",
      "    4       MarketStep(-;..0912)          PFStrat(train;..1680)                   None             \n",
      "    5       MarketStep(-;..0912)                   None                 SquareRep...or(-;..7120)   \n",
      "   (6)              None                                                                           \n",
      ")\n"
     ]
    },
    {
     "name": "stderr",
     "output_type": "stream",
     "text": [
      "Total cost of `cost_to_go[4:]`:   220.0596: 100%|██████████| 300/300 [00:11<00:00, 25.65it/s]\n",
      "Total cost of `cost_to_go[3:]`:   139.4544: 100%|██████████| 300/300 [00:19<00:00, 15.63it/s]\n",
      "Total cost of `cost_to_go[2:]`:    93.4673: 100%|██████████| 300/300 [00:27<00:00, 10.91it/s]\n",
      "Total cost of `cost_to_go[1:]`:    67.8126: 100%|██████████| 300/300 [00:35<00:00,  8.51it/s]\n",
      "Total cost of `cost_to_go[0:]`:    69.3339: 100%|██████████| 300/300 [00:49<00:00,  6.09it/s]\n"
     ]
    }
   ],
   "source": [
    "sims_size = 10000  # Monte-Carlo Simulation Size\n",
    "\n",
    "print(\"Optimizing the following model using NNContPi-Algorithm:\")\n",
    "print(cost_to_go.__repr__(include_id=True))\n",
    "cost_to_go.train()\n",
    "\n",
    "for step in reversed(range(len(cost_to_go) - 1)):\n",
    "    \n",
    "    state_sampler = state_samplers[step]\n",
    "    random_effects_sampler = random_effects_samplers[step]\n",
    "\n",
    "    rel_cost_to_go = cost_to_go[step:]\n",
    "    optimizer = getattr(torch.optim, optimizer_name)(rel_cost_to_go.control_functions[0].parameters(), lr=lr)\n",
    "    scheduler = getattr(torch.optim.lr_scheduler, scheduler_name)(optimizer, gamma=gamma)\n",
    "\n",
    "    gradient_descent_iterations = tqdm(range(gradient_descent_steps))\n",
    "    for iteration in gradient_descent_iterations:\n",
    "\n",
    "        states = state_sampler(sims_size)\n",
    "        rand_effs = random_effects_sampler(sims_size, len(rel_cost_to_go))\n",
    "\n",
    "        cost = rel_cost_to_go(states, rand_effs).mean()\n",
    "        cost.backward()\n",
    "        optimizer.step()\n",
    "        optimizer.zero_grad()\n",
    "        if iteration % 10 == 0:\n",
    "            scheduler.step()\n",
    "\n",
    "        gradient_descent_iterations.set_description(f\"Total cost of `cost_to_go[{step}:]`:  {cost:9.4f}\")\n",
    "    \n",
    "    rel_cost_to_go.eval()"
   ]
  },
  {
   "cell_type": "markdown",
   "metadata": {},
   "source": [
    "Note the time of each gadient descent iteration to increase with the steps of the backward pass."
   ]
  },
  {
   "cell_type": "markdown",
   "metadata": {},
   "source": [
    "Plot the expected square replication errors as implied by `cost_to_go` and the analytical solution against the initial wealth and for the initial price of $100$."
   ]
  },
  {
   "cell_type": "code",
   "execution_count": 106,
   "metadata": {},
   "outputs": [
    {
     "data": {
      "text/plain": [
       "array([[<AxesSubplot:title={'center':\"['·', 100.0]\"}, xlabel='state', ylabel='cost'>]],\n",
       "      dtype=object)"
      ]
     },
     "execution_count": 106,
     "metadata": {},
     "output_type": "execute_result"
    },
    {
     "data": {
      "image/png": "[encoded data removed]",
      "text/plain": [
       "<Figure size 576x360 with 1 Axes>"
      ]
     },
     "metadata": {
      "needs_background": "light"
     },
     "output_type": "display_data"
    }
   ],
   "source": [
    "rand_effs = random_effects_samplers[-1](5000, len(cost_to_go))\n",
    "cost_to_go.plot_state_component_range(torch.arange(0, 10.25, 0.25).to(device), torch.arange(100., 101., 1.).to(device), random_effects=rand_effs, versus=analytic_cost, plot_size=(8,5))"
   ]
  },
  {
   "cell_type": "markdown",
   "metadata": {},
   "source": [
    "Approximately infer from the blue line the fair price of $4.5$ for the option and compare the analytical solution (orange)."
   ]
  },
  {
   "cell_type": "markdown",
   "metadata": {},
   "source": [
    "# HybridNow"
   ]
  },
  {
   "cell_type": "markdown",
   "metadata": {},
   "source": [
    "We start anew:"
   ]
  },
  {
   "cell_type": "code",
   "execution_count": null,
   "metadata": {},
   "outputs": [],
   "source": [
    "model = copy.deepcopy(model)\n",
    "\n",
    "cost_to_go = model['cost_to_go']\n",
    "state_samplers = model['state_samplers']\n",
    "random_effects_samplers = model['random_effects_samplers']"
   ]
  },
  {
   "cell_type": "markdown",
   "metadata": {},
   "source": [
    "We perform the optimization using the HybridNow algorithm (cf. [arXiv:1812.05916v3](https://arxiv.org/abs/1812.05916v3)) that includes value function approximation at each of the optimization steps of the above algorithm, ensuring a constant run-time for each of the backward iteration steps.\n",
    "The domain expert will notice that the convexity of the cost function in the wealth-level translates to the convexity of the expected total cost in the wealth.\n",
    "They decide to apply *partially input-convex neural networks* (as introduced in [arXiv:1609.07152v3](https://arxiv.org/abs/1609.07152v3) and implemented by :py:class:`ml_adp.mapping.convex.PICNN1`) for value function approximation because they expect a neural network with the right convexity properties backed into the architecture to begin with to lead to a more efficient traversal of the solution space:"
   ]
  },
  {
   "cell_type": "code",
   "execution_count": null,
   "metadata": {},
   "outputs": [],
   "source": [
    "class PFVal(torch.nn.Module):\n",
    "    def __init__(self, input_hidden_sizes, param_hidden_sizes):\n",
    "        super(PFVal, self).__init__()\n",
    "        \n",
    "        input_config = (1, *(input_hidden_sizes), 1)\n",
    "        param_config = (1, *(param_hidden_sizes), 1)\n",
    "\n",
    "        self.picnn = ml_adp.mapping.convex.PICNN1( \n",
    "                            input_config, \n",
    "                            param_config, \n",
    "                            hidden_activation=torch.nn.ELU(),\n",
    "                            param_hidden_activation=torch.nn.ELU(),\n",
    "                            floor_func=torch.nn.ReLU(),\n",
    "                            uniform_init_range=(-5, -1)\n",
    "                            )\n",
    "\n",
    "    def forward(self, states, rand_effs=None):\n",
    "        return self.picnn(states[:, [0]], states[:, 1:])"
   ]
  },
  {
   "cell_type": "markdown",
   "metadata": {},
   "source": [
    "The following configurations have proven themselves to work well for the optimal control problem at hand:"
   ]
  },
  {
   "cell_type": "code",
   "execution_count": null,
   "metadata": {},
   "outputs": [],
   "source": [
    "input_hidden_sizes = (80,)\n",
    "param_hidden_sizes = (80,)\n",
    "\n",
    "# For the optimization of the PICNNs\n",
    "approximation_optimizer = \"Adam\"\n",
    "approximation_lr = 0.14094257426816312\n",
    "approximation_gamma = 0.9998846278130944\n",
    "\n",
    "approximation_gradient_descent_steps = 400\n",
    "approximation_batch_size = 120"
   ]
  },
  {
   "cell_type": "code",
   "execution_count": null,
   "metadata": {},
   "outputs": [],
   "source": [
    "sims_size = 6000\n",
    "\n",
    "print(\"Optimizing the following model using Hybrid-Algorithm:\")\n",
    "print(cost_to_go.__repr__(include_id=True))\n",
    "cost_to_go.eval()\n",
    "\n",
    "cost_approximators = []  # Create cost approximators on the fly and save in list\n",
    "cost_approximator = cost_to_go[-1]  # First single-step cost approximator is exact\n",
    "\n",
    "for step in reversed(range(len(cost_to_go) - 1)):\n",
    "\n",
    "    print(f\"Step {step}:\")\n",
    "\n",
    "    sub_ctg = cost_to_go[step] + cost_approximator\n",
    "    state_sampler = state_samplers[step]\n",
    "    random_effects_sampler = random_effects_samplers[step]\n",
    "\n",
    "    # Control Optimization:\n",
    "    sub_ctg.control_functions[0].train()    \n",
    "    optimizer = getattr(torch.optim, optimizer_name)(sub_ctg.control_functions[0].parameters(), lr=lr)\n",
    "\n",
    "    optimization_iterations = tqdm(range(gradient_descent_steps))\n",
    "    for _ in optimization_iterations:\n",
    "        \n",
    "        rand_effs = random_effects_sampler(sims_size, len(rel_cost_to_go))\n",
    "        state = state_sampler(sims_size)\n",
    "        \n",
    "        cost = sub_ctg(state, rand_effs).mean()\n",
    "        cost.backward()\n",
    "        optimizer.step()\n",
    "        optimizer.zero_grad()\n",
    "\n",
    "        optimization_iterations.set_description(f\"Total cost of `cost_to_go[{step}:]`: {cost:9.4f}\")\n",
    "\n",
    "    # Cost Function Approximation\n",
    "    sub_ctg.eval()\n",
    "    cost_approximator = ml_adp.cost.CostToGo.from_steps(0)\n",
    "    cost_approximator.cost_functions[0] = PFVal(input_hidden_sizes, param_hidden_sizes)\n",
    "    cost_approximator.to(device)\n",
    "    cost_approximators.insert(0, cost_approximator)\n",
    "    optimizer = getattr(torch.optim, approximation_optimizer)(cost_approximator.cost_functions[0].parameters(), lr=approximation_lr)\n",
    "\n",
    "    approximation_iterations = tqdm(range(approximation_gradient_descent_steps))\n",
    "    for _ in approximation_iterations: \n",
    "        \n",
    "        state = state_sampler(approximation_batch_size)\n",
    "        rand_effs = random_effects_sampler(sims_size, len(sub_ctg))\n",
    "        \n",
    "        with torch.no_grad():\n",
    "            cost = torch.tensor([sub_ctg(state, rand_effs).mean() for state in state])\n",
    "        approx_cost = cost_approximator(state)\n",
    "        approx_error = torch.norm(cost - approx_cost, p=2)\n",
    "\n",
    "        approx_error.backward()\n",
    "        optimizer.step()\n",
    "        optimizer.zero_grad()\n",
    "        \n",
    "        approximation_iterations.set_description(f\"Approximation Error: {approx_error:9.4f}\")\n",
    "\n",
    "    cost_approximator.eval()\n",
    "    with torch.no_grad():\n",
    "        cost_approximator.plot_state_component_range(\n",
    "            torch.arange(-20., 10.5, 0.5).to(device),\n",
    "            torch.arange(100., 101.).to(device),\n",
    "            random_effects=rand_effs,\n",
    "            versus=sub_ctg,\n",
    "            plot_size=(8,5)\n",
    "        )\n",
    "        plt.show()"
   ]
  },
  {
   "cell_type": "code",
   "execution_count": null,
   "metadata": {},
   "outputs": [],
   "source": [
    "cost_approximator.plot_state_component_range(\n",
    "    torch.arange(-20., 10.5, 0.5).to(device),\n",
    "    torch.arange(100., 101.).to(device),\n",
    "    random_effects=rand_effs,\n",
    "    versus=sub_ctg,\n",
    "    plot_size=(8,5)\n",
    ")\n",
    "plt.show()"
   ]
  }
 ],
 "metadata": {
  "interpreter": {
   "hash": "a733f98d82b883d90bb00fdbc3caaa07cdbb461b072f8844f0ec223333a08df1"
  },
  "kernelspec": {
   "display_name": "Python 3.7.11 64-bit ('ml-adp-2N881lJP-py3.7': poetry)",
   "name": "python3"
  },
  "language_info": {
   "codemirror_mode": {
    "name": "ipython",
    "version": 3
   },
   "file_extension": ".py",
   "mimetype": "text/x-python",
   "name": "python",
   "nbconvert_exporter": "python",
   "pygments_lexer": "ipython3",
   "version": "3.7.11"
  },
  "orig_nbformat": 4
 },
 "nbformat": 4,
 "nbformat_minor": 2
}
